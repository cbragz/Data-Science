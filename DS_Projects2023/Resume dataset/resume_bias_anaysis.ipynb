{
 "cells": [
  {
   "cell_type": "markdown",
   "metadata": {},
   "source": [
    "\n",
    "## Dataset description\n",
    "\n",
    "Dataset was from a study that sought to understand the e\u000b",
    "ect of race and sex on job application callback rates.\n",
    "\n",
    "The first names that were used and randomly assigned in this experiment were selected so that\n",
    "they would predominantly be recognized as belonging to Black or White individuals; other races\n",
    "were not considered in this study.\n",
    "\n",
    "For example, Lakisha was a name that their survey indicated\n",
    "would be interpreted as a Black woman, while Greg was a name that would generally be interpreted\n",
    "to be associated with a White male.\n",
    "\n",
    "\n",
    "- call:  Specifes whether the employer called the applicant following submission of the application for the job.\n",
    "- job city: City where the job was located: Boston or Chicago.\n",
    "- college degree: An indicator for whether the resume listed a college degree.\n",
    "- years experience: Number of years of experience listed on the resume.\n",
    "- honors: Indicator for the resume listing some sort of honors, e.g. employee of the month.\n",
    "- military: Indicator for if the resume listed any military experience.\n",
    "- email address: Indicator for if the resume listed an email address for the applicant.\n",
    "- race: Race of the applicant, implied by their first name listed on the resume.\n",
    "- sex: Sex of the applicant (limited to only male and female in this study), implied by the first name listed on the resume.\n",
    "\n",
    "more details - https://www.openintro.org/data/index.php?data=lakisha"
   ]
  },
  {
   "cell_type": "markdown",
   "metadata": {},
   "source": []
  },
  {
   "cell_type": "markdown",
   "metadata": {},
   "source": []
  },
  {
   "cell_type": "code",
   "execution_count": 1,
   "metadata": {},
   "outputs": [],
   "source": [
    "import pandas as pd\n",
    "import numpy as np\n",
    "import matplotlib.pyplot as plt\n",
    "\n",
    "from sklearn.linear_model import LogisticRegression\n",
    "\n",
    "import statsmodels.api as sm\n",
    "\n",
    "\n",
    "from statsmodels.genmod.generalized_linear_model import GLM\n",
    "from statsmodels.genmod import families"
   ]
  },
  {
   "cell_type": "code",
   "execution_count": 2,
   "metadata": {},
   "outputs": [],
   "source": [
    "df = pd.read_csv('D:/Code Repos Folder/Data Science/DS_Projects2023/Resume dataset/lakisha.csv')"
   ]
  },
  {
   "cell_type": "code",
   "execution_count": 3,
   "metadata": {},
   "outputs": [
    {
     "data": {
      "text/html": [
       "<div>\n",
       "<style scoped>\n",
       "    .dataframe tbody tr th:only-of-type {\n",
       "        vertical-align: middle;\n",
       "    }\n",
       "\n",
       "    .dataframe tbody tr th {\n",
       "        vertical-align: top;\n",
       "    }\n",
       "\n",
       "    .dataframe thead th {\n",
       "        text-align: right;\n",
       "    }\n",
       "</style>\n",
       "<table border=\"1\" class=\"dataframe\">\n",
       "  <thead>\n",
       "    <tr style=\"text-align: right;\">\n",
       "      <th></th>\n",
       "      <th>education</th>\n",
       "      <th>n_jobs</th>\n",
       "      <th>years_exp</th>\n",
       "      <th>honors</th>\n",
       "      <th>volunteer</th>\n",
       "      <th>military</th>\n",
       "      <th>emp_holes</th>\n",
       "      <th>occup_specific</th>\n",
       "      <th>occup_broad</th>\n",
       "      <th>work_in_school</th>\n",
       "      <th>...</th>\n",
       "      <th>comp_req</th>\n",
       "      <th>org_req</th>\n",
       "      <th>manuf</th>\n",
       "      <th>trans_com</th>\n",
       "      <th>bank_real</th>\n",
       "      <th>trade</th>\n",
       "      <th>bus_service</th>\n",
       "      <th>oth_service</th>\n",
       "      <th>miss_ind</th>\n",
       "      <th>ownership</th>\n",
       "    </tr>\n",
       "  </thead>\n",
       "  <tbody>\n",
       "    <tr>\n",
       "      <th>0</th>\n",
       "      <td>4</td>\n",
       "      <td>2</td>\n",
       "      <td>6</td>\n",
       "      <td>0</td>\n",
       "      <td>0</td>\n",
       "      <td>0</td>\n",
       "      <td>1</td>\n",
       "      <td>17</td>\n",
       "      <td>1</td>\n",
       "      <td>0</td>\n",
       "      <td>...</td>\n",
       "      <td>1</td>\n",
       "      <td>0</td>\n",
       "      <td>1</td>\n",
       "      <td>0</td>\n",
       "      <td>0</td>\n",
       "      <td>0</td>\n",
       "      <td>0</td>\n",
       "      <td>0</td>\n",
       "      <td>0</td>\n",
       "      <td>NaN</td>\n",
       "    </tr>\n",
       "    <tr>\n",
       "      <th>1</th>\n",
       "      <td>3</td>\n",
       "      <td>3</td>\n",
       "      <td>6</td>\n",
       "      <td>0</td>\n",
       "      <td>1</td>\n",
       "      <td>1</td>\n",
       "      <td>0</td>\n",
       "      <td>316</td>\n",
       "      <td>6</td>\n",
       "      <td>1</td>\n",
       "      <td>...</td>\n",
       "      <td>1</td>\n",
       "      <td>0</td>\n",
       "      <td>1</td>\n",
       "      <td>0</td>\n",
       "      <td>0</td>\n",
       "      <td>0</td>\n",
       "      <td>0</td>\n",
       "      <td>0</td>\n",
       "      <td>0</td>\n",
       "      <td>NaN</td>\n",
       "    </tr>\n",
       "    <tr>\n",
       "      <th>2</th>\n",
       "      <td>4</td>\n",
       "      <td>1</td>\n",
       "      <td>6</td>\n",
       "      <td>0</td>\n",
       "      <td>0</td>\n",
       "      <td>0</td>\n",
       "      <td>0</td>\n",
       "      <td>19</td>\n",
       "      <td>1</td>\n",
       "      <td>1</td>\n",
       "      <td>...</td>\n",
       "      <td>1</td>\n",
       "      <td>0</td>\n",
       "      <td>1</td>\n",
       "      <td>0</td>\n",
       "      <td>0</td>\n",
       "      <td>0</td>\n",
       "      <td>0</td>\n",
       "      <td>0</td>\n",
       "      <td>0</td>\n",
       "      <td>NaN</td>\n",
       "    </tr>\n",
       "    <tr>\n",
       "      <th>3</th>\n",
       "      <td>3</td>\n",
       "      <td>4</td>\n",
       "      <td>6</td>\n",
       "      <td>0</td>\n",
       "      <td>1</td>\n",
       "      <td>0</td>\n",
       "      <td>1</td>\n",
       "      <td>313</td>\n",
       "      <td>5</td>\n",
       "      <td>0</td>\n",
       "      <td>...</td>\n",
       "      <td>1</td>\n",
       "      <td>0</td>\n",
       "      <td>1</td>\n",
       "      <td>0</td>\n",
       "      <td>0</td>\n",
       "      <td>0</td>\n",
       "      <td>0</td>\n",
       "      <td>0</td>\n",
       "      <td>0</td>\n",
       "      <td>NaN</td>\n",
       "    </tr>\n",
       "    <tr>\n",
       "      <th>4</th>\n",
       "      <td>3</td>\n",
       "      <td>3</td>\n",
       "      <td>22</td>\n",
       "      <td>0</td>\n",
       "      <td>0</td>\n",
       "      <td>0</td>\n",
       "      <td>0</td>\n",
       "      <td>313</td>\n",
       "      <td>5</td>\n",
       "      <td>1</td>\n",
       "      <td>...</td>\n",
       "      <td>1</td>\n",
       "      <td>1</td>\n",
       "      <td>0</td>\n",
       "      <td>0</td>\n",
       "      <td>0</td>\n",
       "      <td>0</td>\n",
       "      <td>0</td>\n",
       "      <td>1</td>\n",
       "      <td>0</td>\n",
       "      <td>Nonprofit</td>\n",
       "    </tr>\n",
       "  </tbody>\n",
       "</table>\n",
       "<p>5 rows × 63 columns</p>\n",
       "</div>"
      ],
      "text/plain": [
       "   education  n_jobs  years_exp  honors  volunteer  military  emp_holes  \\\n",
       "0          4       2          6       0          0         0          1   \n",
       "1          3       3          6       0          1         1          0   \n",
       "2          4       1          6       0          0         0          0   \n",
       "3          3       4          6       0          1         0          1   \n",
       "4          3       3         22       0          0         0          0   \n",
       "\n",
       "   occup_specific  occup_broad  work_in_school  ...  comp_req  org_req  manuf  \\\n",
       "0              17            1               0  ...         1        0      1   \n",
       "1             316            6               1  ...         1        0      1   \n",
       "2              19            1               1  ...         1        0      1   \n",
       "3             313            5               0  ...         1        0      1   \n",
       "4             313            5               1  ...         1        1      0   \n",
       "\n",
       "  trans_com bank_real trade  bus_service  oth_service  miss_ind  ownership  \n",
       "0         0         0     0            0            0         0        NaN  \n",
       "1         0         0     0            0            0         0        NaN  \n",
       "2         0         0     0            0            0         0        NaN  \n",
       "3         0         0     0            0            0         0        NaN  \n",
       "4         0         0     0            0            1         0  Nonprofit  \n",
       "\n",
       "[5 rows x 63 columns]"
      ]
     },
     "execution_count": 3,
     "metadata": {},
     "output_type": "execute_result"
    }
   ],
   "source": [
    "df.head()"
   ]
  },
  {
   "cell_type": "code",
   "execution_count": 4,
   "metadata": {
    "scrolled": true
   },
   "outputs": [
    {
     "name": "stdout",
     "output_type": "stream",
     "text": [
      "<class 'pandas.core.frame.DataFrame'>\n",
      "RangeIndex: 4870 entries, 0 to 4869\n",
      "Data columns (total 63 columns):\n",
      " #   Column                Non-Null Count  Dtype  \n",
      "---  ------                --------------  -----  \n",
      " 0   education             4870 non-null   int64  \n",
      " 1   n_jobs                4870 non-null   int64  \n",
      " 2   years_exp             4870 non-null   int64  \n",
      " 3   honors                4870 non-null   int64  \n",
      " 4   volunteer             4870 non-null   int64  \n",
      " 5   military              4870 non-null   int64  \n",
      " 6   emp_holes             4870 non-null   int64  \n",
      " 7   occup_specific        4870 non-null   int64  \n",
      " 8   occup_broad           4870 non-null   int64  \n",
      " 9   work_in_school        4870 non-null   int64  \n",
      " 10  email                 4870 non-null   int64  \n",
      " 11  computer_skills       4870 non-null   int64  \n",
      " 12  special_skills        4870 non-null   int64  \n",
      " 13  first_name            4870 non-null   object \n",
      " 14  sex                   4870 non-null   object \n",
      " 15  race                  4870 non-null   object \n",
      " 16  h                     4870 non-null   int64  \n",
      " 17  l                     4870 non-null   int64  \n",
      " 18  call                  4870 non-null   int64  \n",
      " 19  city                  4870 non-null   object \n",
      " 20  kind                  4870 non-null   object \n",
      " 21  ad_id                 4870 non-null   int64  \n",
      " 22  frac_black            4784 non-null   float64\n",
      " 23  frac_white            4784 non-null   float64\n",
      " 24  l_med_hh_inc          4784 non-null   float64\n",
      " 25  frac_dropout          4784 non-null   float64\n",
      " 26  frac_colp             4784 non-null   float64\n",
      " 27  l_inc                 4784 non-null   float64\n",
      " 28  col                   4870 non-null   int64  \n",
      " 29  exp_min_req           2124 non-null   object \n",
      " 30  school_req            520 non-null    object \n",
      " 31  eoe                   4870 non-null   int64  \n",
      " 32  parent_sales          1672 non-null   float64\n",
      " 33  parent_emp            1722 non-null   float64\n",
      " 34  branch_sales          608 non-null    float64\n",
      " 35  branch_emp            658 non-null    float64\n",
      " 36  fed                   3102 non-null   float64\n",
      " 37  frac_black_emp_zip    1918 non-null   float64\n",
      " 38  frac_white_emp_zip    1918 non-null   float64\n",
      " 39  l_med_hh_inc_emp_zip  1908 non-null   float64\n",
      " 40  frac_dropout_emp_zip  1918 non-null   float64\n",
      " 41  frac_colp_emp_zip     1918 non-null   float64\n",
      " 42  l_inc_emp_zip         1918 non-null   float64\n",
      " 43  manager               4870 non-null   int64  \n",
      " 44  supervisor            4870 non-null   int64  \n",
      " 45  secretary             4870 non-null   int64  \n",
      " 46  off_support           4870 non-null   int64  \n",
      " 47  sales_rep             4870 non-null   int64  \n",
      " 48  retail_sales          4870 non-null   int64  \n",
      " 49  req                   4870 non-null   int64  \n",
      " 50  exp_req               4870 non-null   int64  \n",
      " 51  com_req               4870 non-null   int64  \n",
      " 52  educ_req              4870 non-null   int64  \n",
      " 53  comp_req              4870 non-null   int64  \n",
      " 54  org_req               4870 non-null   int64  \n",
      " 55  manuf                 4870 non-null   int64  \n",
      " 56  trans_com             4870 non-null   int64  \n",
      " 57  bank_real             4870 non-null   int64  \n",
      " 58  trade                 4870 non-null   int64  \n",
      " 59  bus_service           4870 non-null   int64  \n",
      " 60  oth_service           4870 non-null   int64  \n",
      " 61  miss_ind              4870 non-null   int64  \n",
      " 62  ownership             2878 non-null   object \n",
      "dtypes: float64(17), int64(38), object(8)\n",
      "memory usage: 2.3+ MB\n"
     ]
    }
   ],
   "source": [
    "df.info()"
   ]
  },
  {
   "cell_type": "code",
   "execution_count": 5,
   "metadata": {},
   "outputs": [
    {
     "data": {
      "text/plain": [
       "0       Allison\n",
       "1       Kristen\n",
       "2       Lakisha\n",
       "3       Latonya\n",
       "4        Carrie\n",
       "         ...   \n",
       "4865     Tamika\n",
       "4866      Ebony\n",
       "4867        Jay\n",
       "4868    Latonya\n",
       "4869     Laurie\n",
       "Name: first_name, Length: 4870, dtype: object"
      ]
     },
     "execution_count": 5,
     "metadata": {},
     "output_type": "execute_result"
    }
   ],
   "source": [
    "df.first_name"
   ]
  },
  {
   "cell_type": "code",
   "execution_count": 6,
   "metadata": {},
   "outputs": [
    {
     "data": {
      "text/plain": [
       "0       0\n",
       "1       0\n",
       "2       0\n",
       "3       0\n",
       "4       0\n",
       "       ..\n",
       "4865    0\n",
       "4866    0\n",
       "4867    0\n",
       "4868    0\n",
       "4869    0\n",
       "Name: call, Length: 4870, dtype: int64"
      ]
     },
     "execution_count": 6,
     "metadata": {},
     "output_type": "execute_result"
    }
   ],
   "source": [
    "df.call\n",
    "# 1 - callbaack received ; 0 - applicant did not receive callback"
   ]
  },
  {
   "cell_type": "code",
   "execution_count": 7,
   "metadata": {},
   "outputs": [
    {
     "data": {
      "text/plain": [
       "Index(['education', 'n_jobs', 'years_exp', 'honors', 'volunteer', 'military',\n",
       "       'emp_holes', 'occup_specific', 'occup_broad', 'work_in_school', 'email',\n",
       "       'computer_skills', 'special_skills', 'first_name', 'sex', 'race', 'h',\n",
       "       'l', 'call', 'city', 'kind', 'ad_id', 'frac_black', 'frac_white',\n",
       "       'l_med_hh_inc', 'frac_dropout', 'frac_colp', 'l_inc', 'col',\n",
       "       'exp_min_req', 'school_req', 'eoe', 'parent_sales', 'parent_emp',\n",
       "       'branch_sales', 'branch_emp', 'fed', 'frac_black_emp_zip',\n",
       "       'frac_white_emp_zip', 'l_med_hh_inc_emp_zip', 'frac_dropout_emp_zip',\n",
       "       'frac_colp_emp_zip', 'l_inc_emp_zip', 'manager', 'supervisor',\n",
       "       'secretary', 'off_support', 'sales_rep', 'retail_sales', 'req',\n",
       "       'exp_req', 'com_req', 'educ_req', 'comp_req', 'org_req', 'manuf',\n",
       "       'trans_com', 'bank_real', 'trade', 'bus_service', 'oth_service',\n",
       "       'miss_ind', 'ownership'],\n",
       "      dtype='object')"
      ]
     },
     "execution_count": 7,
     "metadata": {},
     "output_type": "execute_result"
    }
   ],
   "source": [
    "df.columns"
   ]
  },
  {
   "cell_type": "code",
   "execution_count": 8,
   "metadata": {},
   "outputs": [
    {
     "data": {
      "text/html": [
       "<div>\n",
       "<style scoped>\n",
       "    .dataframe tbody tr th:only-of-type {\n",
       "        vertical-align: middle;\n",
       "    }\n",
       "\n",
       "    .dataframe tbody tr th {\n",
       "        vertical-align: top;\n",
       "    }\n",
       "\n",
       "    .dataframe thead th {\n",
       "        text-align: right;\n",
       "    }\n",
       "</style>\n",
       "<table border=\"1\" class=\"dataframe\">\n",
       "  <thead>\n",
       "    <tr style=\"text-align: right;\">\n",
       "      <th></th>\n",
       "      <th>city</th>\n",
       "      <th>col</th>\n",
       "      <th>years_exp</th>\n",
       "      <th>honors</th>\n",
       "      <th>military</th>\n",
       "      <th>email</th>\n",
       "      <th>race</th>\n",
       "      <th>sex</th>\n",
       "      <th>call</th>\n",
       "    </tr>\n",
       "  </thead>\n",
       "  <tbody>\n",
       "    <tr>\n",
       "      <th>0</th>\n",
       "      <td>c</td>\n",
       "      <td>1</td>\n",
       "      <td>6</td>\n",
       "      <td>0</td>\n",
       "      <td>0</td>\n",
       "      <td>0</td>\n",
       "      <td>w</td>\n",
       "      <td>f</td>\n",
       "      <td>0</td>\n",
       "    </tr>\n",
       "    <tr>\n",
       "      <th>1</th>\n",
       "      <td>c</td>\n",
       "      <td>0</td>\n",
       "      <td>6</td>\n",
       "      <td>0</td>\n",
       "      <td>1</td>\n",
       "      <td>1</td>\n",
       "      <td>w</td>\n",
       "      <td>f</td>\n",
       "      <td>0</td>\n",
       "    </tr>\n",
       "    <tr>\n",
       "      <th>2</th>\n",
       "      <td>c</td>\n",
       "      <td>1</td>\n",
       "      <td>6</td>\n",
       "      <td>0</td>\n",
       "      <td>0</td>\n",
       "      <td>0</td>\n",
       "      <td>b</td>\n",
       "      <td>f</td>\n",
       "      <td>0</td>\n",
       "    </tr>\n",
       "    <tr>\n",
       "      <th>3</th>\n",
       "      <td>c</td>\n",
       "      <td>0</td>\n",
       "      <td>6</td>\n",
       "      <td>0</td>\n",
       "      <td>0</td>\n",
       "      <td>1</td>\n",
       "      <td>b</td>\n",
       "      <td>f</td>\n",
       "      <td>0</td>\n",
       "    </tr>\n",
       "    <tr>\n",
       "      <th>4</th>\n",
       "      <td>c</td>\n",
       "      <td>0</td>\n",
       "      <td>22</td>\n",
       "      <td>0</td>\n",
       "      <td>0</td>\n",
       "      <td>1</td>\n",
       "      <td>w</td>\n",
       "      <td>f</td>\n",
       "      <td>0</td>\n",
       "    </tr>\n",
       "    <tr>\n",
       "      <th>...</th>\n",
       "      <td>...</td>\n",
       "      <td>...</td>\n",
       "      <td>...</td>\n",
       "      <td>...</td>\n",
       "      <td>...</td>\n",
       "      <td>...</td>\n",
       "      <td>...</td>\n",
       "      <td>...</td>\n",
       "      <td>...</td>\n",
       "    </tr>\n",
       "    <tr>\n",
       "      <th>4865</th>\n",
       "      <td>b</td>\n",
       "      <td>0</td>\n",
       "      <td>1</td>\n",
       "      <td>0</td>\n",
       "      <td>0</td>\n",
       "      <td>0</td>\n",
       "      <td>b</td>\n",
       "      <td>f</td>\n",
       "      <td>0</td>\n",
       "    </tr>\n",
       "    <tr>\n",
       "      <th>4866</th>\n",
       "      <td>b</td>\n",
       "      <td>1</td>\n",
       "      <td>6</td>\n",
       "      <td>0</td>\n",
       "      <td>0</td>\n",
       "      <td>0</td>\n",
       "      <td>b</td>\n",
       "      <td>f</td>\n",
       "      <td>0</td>\n",
       "    </tr>\n",
       "    <tr>\n",
       "      <th>4867</th>\n",
       "      <td>b</td>\n",
       "      <td>1</td>\n",
       "      <td>8</td>\n",
       "      <td>0</td>\n",
       "      <td>0</td>\n",
       "      <td>1</td>\n",
       "      <td>w</td>\n",
       "      <td>m</td>\n",
       "      <td>0</td>\n",
       "    </tr>\n",
       "    <tr>\n",
       "      <th>4868</th>\n",
       "      <td>b</td>\n",
       "      <td>1</td>\n",
       "      <td>2</td>\n",
       "      <td>0</td>\n",
       "      <td>1</td>\n",
       "      <td>1</td>\n",
       "      <td>b</td>\n",
       "      <td>f</td>\n",
       "      <td>0</td>\n",
       "    </tr>\n",
       "    <tr>\n",
       "      <th>4869</th>\n",
       "      <td>b</td>\n",
       "      <td>1</td>\n",
       "      <td>7</td>\n",
       "      <td>0</td>\n",
       "      <td>0</td>\n",
       "      <td>0</td>\n",
       "      <td>w</td>\n",
       "      <td>f</td>\n",
       "      <td>0</td>\n",
       "    </tr>\n",
       "  </tbody>\n",
       "</table>\n",
       "<p>4870 rows × 9 columns</p>\n",
       "</div>"
      ],
      "text/plain": [
       "     city  col  years_exp  honors  military  email race sex  call\n",
       "0       c    1          6       0         0      0    w   f     0\n",
       "1       c    0          6       0         1      1    w   f     0\n",
       "2       c    1          6       0         0      0    b   f     0\n",
       "3       c    0          6       0         0      1    b   f     0\n",
       "4       c    0         22       0         0      1    w   f     0\n",
       "...   ...  ...        ...     ...       ...    ...  ...  ..   ...\n",
       "4865    b    0          1       0         0      0    b   f     0\n",
       "4866    b    1          6       0         0      0    b   f     0\n",
       "4867    b    1          8       0         0      1    w   m     0\n",
       "4868    b    1          2       0         1      1    b   f     0\n",
       "4869    b    1          7       0         0      0    w   f     0\n",
       "\n",
       "[4870 rows x 9 columns]"
      ]
     },
     "execution_count": 8,
     "metadata": {},
     "output_type": "execute_result"
    }
   ],
   "source": [
    "df.loc[:,['city','col','years_exp','honors','military','email','race','sex','call']]"
   ]
  },
  {
   "cell_type": "code",
   "execution_count": null,
   "metadata": {},
   "outputs": [],
   "source": []
  },
  {
   "cell_type": "code",
   "execution_count": 9,
   "metadata": {},
   "outputs": [
    {
     "data": {
      "text/plain": [
       "array(['Allison', 'Kristen', 'Lakisha', 'Latonya', 'Carrie', 'Jay',\n",
       "       'Jill', 'Kenya', 'Tyrone', 'Aisha', 'Geoffrey', 'Matthew',\n",
       "       'Tamika', 'Leroy', 'Todd', 'Greg', 'Keisha', 'Brad', 'Laurie',\n",
       "       'Meredith', 'Anne', 'Emily', 'Latoya', 'Ebony', 'Brendan', 'Hakim',\n",
       "       'Jamal', 'Neil', 'Tremayne', 'Brett', 'Darnell', 'Sarah',\n",
       "       'Jermaine', 'Tanisha', 'Rasheed', 'Kareem'], dtype=object)"
      ]
     },
     "execution_count": 9,
     "metadata": {},
     "output_type": "execute_result"
    }
   ],
   "source": [
    "df.first_name.unique()"
   ]
  },
  {
   "cell_type": "code",
   "execution_count": null,
   "metadata": {},
   "outputs": [],
   "source": []
  },
  {
   "cell_type": "markdown",
   "metadata": {},
   "source": [
    "The outcome, Yi, <br>\n",
    "takes the value 1 (in our application, this represents a callback for the\n",
    "resume) with probability <b>pi</b> <br>\n",
    "and the value 0 with probability <b>1 - pi</b>. <br>\n",
    "Because each observation has a slightly different context, e.g. different education level or a different number of years of experience, the probability <b>pi</b> will differ for each observation. Ultimately, it is this probability that we model\n",
    "in relation to the predictor variables: we will examine which resume characteristics correspond to higher or lower callback rates."
   ]
  },
  {
   "cell_type": "markdown",
   "metadata": {},
   "source": [
    "#### testing impact of 'honors' mentioned on the resume"
   ]
  },
  {
   "cell_type": "code",
   "execution_count": 10,
   "metadata": {},
   "outputs": [],
   "source": [
    "x1 = df.loc[:,['honors']]        #we use [] in the loc so we get a dataframe of shape (rows,1) as reqd by sklearn"
   ]
  },
  {
   "cell_type": "code",
   "execution_count": 11,
   "metadata": {},
   "outputs": [],
   "source": [
    "y1 = df.loc[:,'call']"
   ]
  },
  {
   "cell_type": "code",
   "execution_count": 12,
   "metadata": {},
   "outputs": [
    {
     "data": {
      "text/plain": [
       "0       0\n",
       "1       0\n",
       "2       0\n",
       "3       0\n",
       "4       0\n",
       "       ..\n",
       "4865    0\n",
       "4866    0\n",
       "4867    0\n",
       "4868    0\n",
       "4869    0\n",
       "Name: call, Length: 4870, dtype: int64"
      ]
     },
     "execution_count": 12,
     "metadata": {},
     "output_type": "execute_result"
    }
   ],
   "source": [
    "y1"
   ]
  },
  {
   "cell_type": "code",
   "execution_count": 13,
   "metadata": {},
   "outputs": [
    {
     "data": {
      "text/plain": [
       "(4870, 1)"
      ]
     },
     "execution_count": 13,
     "metadata": {},
     "output_type": "execute_result"
    }
   ],
   "source": [
    "x1.shape"
   ]
  },
  {
   "cell_type": "code",
   "execution_count": 14,
   "metadata": {},
   "outputs": [],
   "source": [
    "# X = np.array(X).reshape(-1,1)"
   ]
  },
  {
   "cell_type": "code",
   "execution_count": 15,
   "metadata": {},
   "outputs": [],
   "source": [
    "lr1 = LogisticRegression()"
   ]
  },
  {
   "cell_type": "code",
   "execution_count": 16,
   "metadata": {},
   "outputs": [
    {
     "data": {
      "text/plain": [
       "LogisticRegression()"
      ]
     },
     "execution_count": 16,
     "metadata": {},
     "output_type": "execute_result"
    }
   ],
   "source": [
    "lr1.fit(x1,y1)"
   ]
  },
  {
   "cell_type": "code",
   "execution_count": 17,
   "metadata": {},
   "outputs": [],
   "source": [
    "lr1_probs = lr1.predict_proba(x1)"
   ]
  },
  {
   "cell_type": "code",
   "execution_count": 18,
   "metadata": {},
   "outputs": [
    {
     "data": {
      "text/plain": [
       "array([[0.92394518, 0.07605482],\n",
       "       [0.92394518, 0.07605482],\n",
       "       [0.92394518, 0.07605482],\n",
       "       ...,\n",
       "       [0.92394518, 0.07605482],\n",
       "       [0.92394518, 0.07605482],\n",
       "       [0.92394518, 0.07605482]])"
      ]
     },
     "execution_count": 18,
     "metadata": {},
     "output_type": "execute_result"
    }
   ],
   "source": [
    "lr1_probs"
   ]
  },
  {
   "cell_type": "code",
   "execution_count": 19,
   "metadata": {},
   "outputs": [
    {
     "data": {
      "text/plain": [
       "(4870, 2)"
      ]
     },
     "execution_count": 19,
     "metadata": {},
     "output_type": "execute_result"
    }
   ],
   "source": [
    "lr1_probs.shape"
   ]
  },
  {
   "cell_type": "code",
   "execution_count": 20,
   "metadata": {},
   "outputs": [
    {
     "data": {
      "text/plain": [
       "array([-2.49719831])"
      ]
     },
     "execution_count": 20,
     "metadata": {},
     "output_type": "execute_result"
    }
   ],
   "source": [
    "lr1.intercept_"
   ]
  },
  {
   "cell_type": "code",
   "execution_count": 21,
   "metadata": {},
   "outputs": [
    {
     "data": {
      "text/plain": [
       "array([[0.84014903]])"
      ]
     },
     "execution_count": 21,
     "metadata": {},
     "output_type": "execute_result"
    }
   ],
   "source": [
    "lr1.coef_"
   ]
  },
  {
   "cell_type": "markdown",
   "metadata": {},
   "source": [
    "log(pi/1-pi) ~ intercept +- coeff x honors\n",
    "<br>\n",
    "\n",
    "log(pi/1-pi) = -2.49 + .84 x honors\n",
    "\n",
    "\n",
    "#### Interpretation - \n",
    "If the resume had listed some honors, then the right side of the model equation is -2:4998 + 0:84 x 1 = -1:6330, which corresponds to a probability ^pi = 0.163\n",
    "\n",
    "\n",
    "### how to get the probability value with code??\n",
    "### also how to get the P-value to check if variable is significant???"
   ]
  },
  {
   "cell_type": "code",
   "execution_count": null,
   "metadata": {},
   "outputs": [],
   "source": []
  },
  {
   "cell_type": "markdown",
   "metadata": {},
   "source": [
    "## Running LogReg for all variables"
   ]
  },
  {
   "cell_type": "code",
   "execution_count": 22,
   "metadata": {},
   "outputs": [
    {
     "data": {
      "text/html": [
       "<div>\n",
       "<style scoped>\n",
       "    .dataframe tbody tr th:only-of-type {\n",
       "        vertical-align: middle;\n",
       "    }\n",
       "\n",
       "    .dataframe tbody tr th {\n",
       "        vertical-align: top;\n",
       "    }\n",
       "\n",
       "    .dataframe thead th {\n",
       "        text-align: right;\n",
       "    }\n",
       "</style>\n",
       "<table border=\"1\" class=\"dataframe\">\n",
       "  <thead>\n",
       "    <tr style=\"text-align: right;\">\n",
       "      <th></th>\n",
       "      <th>education</th>\n",
       "      <th>n_jobs</th>\n",
       "      <th>years_exp</th>\n",
       "      <th>honors</th>\n",
       "      <th>volunteer</th>\n",
       "      <th>military</th>\n",
       "      <th>emp_holes</th>\n",
       "      <th>occup_specific</th>\n",
       "      <th>occup_broad</th>\n",
       "      <th>work_in_school</th>\n",
       "      <th>...</th>\n",
       "      <th>comp_req</th>\n",
       "      <th>org_req</th>\n",
       "      <th>manuf</th>\n",
       "      <th>trans_com</th>\n",
       "      <th>bank_real</th>\n",
       "      <th>trade</th>\n",
       "      <th>bus_service</th>\n",
       "      <th>oth_service</th>\n",
       "      <th>miss_ind</th>\n",
       "      <th>ownership</th>\n",
       "    </tr>\n",
       "  </thead>\n",
       "  <tbody>\n",
       "    <tr>\n",
       "      <th>0</th>\n",
       "      <td>4</td>\n",
       "      <td>2</td>\n",
       "      <td>6</td>\n",
       "      <td>0</td>\n",
       "      <td>0</td>\n",
       "      <td>0</td>\n",
       "      <td>1</td>\n",
       "      <td>17</td>\n",
       "      <td>1</td>\n",
       "      <td>0</td>\n",
       "      <td>...</td>\n",
       "      <td>1</td>\n",
       "      <td>0</td>\n",
       "      <td>1</td>\n",
       "      <td>0</td>\n",
       "      <td>0</td>\n",
       "      <td>0</td>\n",
       "      <td>0</td>\n",
       "      <td>0</td>\n",
       "      <td>0</td>\n",
       "      <td>NaN</td>\n",
       "    </tr>\n",
       "    <tr>\n",
       "      <th>1</th>\n",
       "      <td>3</td>\n",
       "      <td>3</td>\n",
       "      <td>6</td>\n",
       "      <td>0</td>\n",
       "      <td>1</td>\n",
       "      <td>1</td>\n",
       "      <td>0</td>\n",
       "      <td>316</td>\n",
       "      <td>6</td>\n",
       "      <td>1</td>\n",
       "      <td>...</td>\n",
       "      <td>1</td>\n",
       "      <td>0</td>\n",
       "      <td>1</td>\n",
       "      <td>0</td>\n",
       "      <td>0</td>\n",
       "      <td>0</td>\n",
       "      <td>0</td>\n",
       "      <td>0</td>\n",
       "      <td>0</td>\n",
       "      <td>NaN</td>\n",
       "    </tr>\n",
       "  </tbody>\n",
       "</table>\n",
       "<p>2 rows × 63 columns</p>\n",
       "</div>"
      ],
      "text/plain": [
       "   education  n_jobs  years_exp  honors  volunteer  military  emp_holes  \\\n",
       "0          4       2          6       0          0         0          1   \n",
       "1          3       3          6       0          1         1          0   \n",
       "\n",
       "   occup_specific  occup_broad  work_in_school  ...  comp_req  org_req  manuf  \\\n",
       "0              17            1               0  ...         1        0      1   \n",
       "1             316            6               1  ...         1        0      1   \n",
       "\n",
       "  trans_com bank_real trade  bus_service  oth_service  miss_ind ownership  \n",
       "0         0         0     0            0            0         0       NaN  \n",
       "1         0         0     0            0            0         0       NaN  \n",
       "\n",
       "[2 rows x 63 columns]"
      ]
     },
     "execution_count": 22,
     "metadata": {},
     "output_type": "execute_result"
    }
   ],
   "source": [
    "df.head(2)"
   ]
  },
  {
   "cell_type": "code",
   "execution_count": 23,
   "metadata": {},
   "outputs": [],
   "source": [
    "x2 = df.loc[:,['city','col','years_exp','honors','military','email','race','sex']]"
   ]
  },
  {
   "cell_type": "code",
   "execution_count": 24,
   "metadata": {},
   "outputs": [
    {
     "data": {
      "text/html": [
       "<div>\n",
       "<style scoped>\n",
       "    .dataframe tbody tr th:only-of-type {\n",
       "        vertical-align: middle;\n",
       "    }\n",
       "\n",
       "    .dataframe tbody tr th {\n",
       "        vertical-align: top;\n",
       "    }\n",
       "\n",
       "    .dataframe thead th {\n",
       "        text-align: right;\n",
       "    }\n",
       "</style>\n",
       "<table border=\"1\" class=\"dataframe\">\n",
       "  <thead>\n",
       "    <tr style=\"text-align: right;\">\n",
       "      <th></th>\n",
       "      <th>city</th>\n",
       "      <th>col</th>\n",
       "      <th>years_exp</th>\n",
       "      <th>honors</th>\n",
       "      <th>military</th>\n",
       "      <th>email</th>\n",
       "      <th>race</th>\n",
       "      <th>sex</th>\n",
       "    </tr>\n",
       "  </thead>\n",
       "  <tbody>\n",
       "    <tr>\n",
       "      <th>0</th>\n",
       "      <td>c</td>\n",
       "      <td>1</td>\n",
       "      <td>6</td>\n",
       "      <td>0</td>\n",
       "      <td>0</td>\n",
       "      <td>0</td>\n",
       "      <td>w</td>\n",
       "      <td>f</td>\n",
       "    </tr>\n",
       "    <tr>\n",
       "      <th>1</th>\n",
       "      <td>c</td>\n",
       "      <td>0</td>\n",
       "      <td>6</td>\n",
       "      <td>0</td>\n",
       "      <td>1</td>\n",
       "      <td>1</td>\n",
       "      <td>w</td>\n",
       "      <td>f</td>\n",
       "    </tr>\n",
       "    <tr>\n",
       "      <th>2</th>\n",
       "      <td>c</td>\n",
       "      <td>1</td>\n",
       "      <td>6</td>\n",
       "      <td>0</td>\n",
       "      <td>0</td>\n",
       "      <td>0</td>\n",
       "      <td>b</td>\n",
       "      <td>f</td>\n",
       "    </tr>\n",
       "    <tr>\n",
       "      <th>3</th>\n",
       "      <td>c</td>\n",
       "      <td>0</td>\n",
       "      <td>6</td>\n",
       "      <td>0</td>\n",
       "      <td>0</td>\n",
       "      <td>1</td>\n",
       "      <td>b</td>\n",
       "      <td>f</td>\n",
       "    </tr>\n",
       "    <tr>\n",
       "      <th>4</th>\n",
       "      <td>c</td>\n",
       "      <td>0</td>\n",
       "      <td>22</td>\n",
       "      <td>0</td>\n",
       "      <td>0</td>\n",
       "      <td>1</td>\n",
       "      <td>w</td>\n",
       "      <td>f</td>\n",
       "    </tr>\n",
       "  </tbody>\n",
       "</table>\n",
       "</div>"
      ],
      "text/plain": [
       "  city  col  years_exp  honors  military  email race sex\n",
       "0    c    1          6       0         0      0    w   f\n",
       "1    c    0          6       0         1      1    w   f\n",
       "2    c    1          6       0         0      0    b   f\n",
       "3    c    0          6       0         0      1    b   f\n",
       "4    c    0         22       0         0      1    w   f"
      ]
     },
     "execution_count": 24,
     "metadata": {},
     "output_type": "execute_result"
    }
   ],
   "source": [
    "x2.head()"
   ]
  },
  {
   "cell_type": "code",
   "execution_count": 25,
   "metadata": {},
   "outputs": [],
   "source": [
    "x2 = pd.get_dummies(x2,columns=['city','race','sex'],drop_first=True)"
   ]
  },
  {
   "cell_type": "code",
   "execution_count": 26,
   "metadata": {},
   "outputs": [
    {
     "data": {
      "text/html": [
       "<div>\n",
       "<style scoped>\n",
       "    .dataframe tbody tr th:only-of-type {\n",
       "        vertical-align: middle;\n",
       "    }\n",
       "\n",
       "    .dataframe tbody tr th {\n",
       "        vertical-align: top;\n",
       "    }\n",
       "\n",
       "    .dataframe thead th {\n",
       "        text-align: right;\n",
       "    }\n",
       "</style>\n",
       "<table border=\"1\" class=\"dataframe\">\n",
       "  <thead>\n",
       "    <tr style=\"text-align: right;\">\n",
       "      <th></th>\n",
       "      <th>col</th>\n",
       "      <th>years_exp</th>\n",
       "      <th>honors</th>\n",
       "      <th>military</th>\n",
       "      <th>email</th>\n",
       "      <th>city_c</th>\n",
       "      <th>race_w</th>\n",
       "      <th>sex_m</th>\n",
       "    </tr>\n",
       "  </thead>\n",
       "  <tbody>\n",
       "    <tr>\n",
       "      <th>0</th>\n",
       "      <td>1</td>\n",
       "      <td>6</td>\n",
       "      <td>0</td>\n",
       "      <td>0</td>\n",
       "      <td>0</td>\n",
       "      <td>1</td>\n",
       "      <td>1</td>\n",
       "      <td>0</td>\n",
       "    </tr>\n",
       "    <tr>\n",
       "      <th>1</th>\n",
       "      <td>0</td>\n",
       "      <td>6</td>\n",
       "      <td>0</td>\n",
       "      <td>1</td>\n",
       "      <td>1</td>\n",
       "      <td>1</td>\n",
       "      <td>1</td>\n",
       "      <td>0</td>\n",
       "    </tr>\n",
       "    <tr>\n",
       "      <th>2</th>\n",
       "      <td>1</td>\n",
       "      <td>6</td>\n",
       "      <td>0</td>\n",
       "      <td>0</td>\n",
       "      <td>0</td>\n",
       "      <td>1</td>\n",
       "      <td>0</td>\n",
       "      <td>0</td>\n",
       "    </tr>\n",
       "    <tr>\n",
       "      <th>3</th>\n",
       "      <td>0</td>\n",
       "      <td>6</td>\n",
       "      <td>0</td>\n",
       "      <td>0</td>\n",
       "      <td>1</td>\n",
       "      <td>1</td>\n",
       "      <td>0</td>\n",
       "      <td>0</td>\n",
       "    </tr>\n",
       "    <tr>\n",
       "      <th>4</th>\n",
       "      <td>0</td>\n",
       "      <td>22</td>\n",
       "      <td>0</td>\n",
       "      <td>0</td>\n",
       "      <td>1</td>\n",
       "      <td>1</td>\n",
       "      <td>1</td>\n",
       "      <td>0</td>\n",
       "    </tr>\n",
       "  </tbody>\n",
       "</table>\n",
       "</div>"
      ],
      "text/plain": [
       "   col  years_exp  honors  military  email  city_c  race_w  sex_m\n",
       "0    1          6       0         0      0       1       1      0\n",
       "1    0          6       0         1      1       1       1      0\n",
       "2    1          6       0         0      0       1       0      0\n",
       "3    0          6       0         0      1       1       0      0\n",
       "4    0         22       0         0      1       1       1      0"
      ]
     },
     "execution_count": 26,
     "metadata": {},
     "output_type": "execute_result"
    }
   ],
   "source": [
    "x2.head()"
   ]
  },
  {
   "cell_type": "code",
   "execution_count": 27,
   "metadata": {},
   "outputs": [],
   "source": [
    "y2 = df.call"
   ]
  },
  {
   "cell_type": "code",
   "execution_count": 28,
   "metadata": {},
   "outputs": [
    {
     "data": {
      "text/plain": [
       "0    0\n",
       "1    0\n",
       "2    0\n",
       "3    0\n",
       "4    0\n",
       "Name: call, dtype: int64"
      ]
     },
     "execution_count": 28,
     "metadata": {},
     "output_type": "execute_result"
    }
   ],
   "source": [
    "y2.head()"
   ]
  },
  {
   "cell_type": "code",
   "execution_count": 29,
   "metadata": {},
   "outputs": [],
   "source": [
    "lr2 = LogisticRegression()"
   ]
  },
  {
   "cell_type": "code",
   "execution_count": 30,
   "metadata": {},
   "outputs": [
    {
     "data": {
      "text/plain": [
       "LogisticRegression()"
      ]
     },
     "execution_count": 30,
     "metadata": {},
     "output_type": "execute_result"
    }
   ],
   "source": [
    "lr2.fit(x2,y2)"
   ]
  },
  {
   "cell_type": "code",
   "execution_count": 31,
   "metadata": {},
   "outputs": [
    {
     "data": {
      "text/plain": [
       "array([[-0.06507503,  0.02063955,  0.7424629 , -0.32293905,  0.21457942,\n",
       "        -0.43171114,  0.43709893, -0.17889785]])"
      ]
     },
     "execution_count": 31,
     "metadata": {},
     "output_type": "execute_result"
    }
   ],
   "source": [
    "lr2.coef_"
   ]
  },
  {
   "cell_type": "code",
   "execution_count": 32,
   "metadata": {},
   "outputs": [
    {
     "data": {
      "text/plain": [
       "array([-2.66865243])"
      ]
     },
     "execution_count": 32,
     "metadata": {},
     "output_type": "execute_result"
    }
   ],
   "source": [
    "lr2.intercept_"
   ]
  },
  {
   "cell_type": "code",
   "execution_count": null,
   "metadata": {},
   "outputs": [],
   "source": []
  },
  {
   "cell_type": "code",
   "execution_count": 33,
   "metadata": {},
   "outputs": [
    {
     "data": {
      "text/plain": [
       "Index(['col', 'years_exp', 'honors', 'military', 'email', 'city_c', 'race_w',\n",
       "       'sex_m'],\n",
       "      dtype='object')"
      ]
     },
     "execution_count": 33,
     "metadata": {},
     "output_type": "execute_result"
    }
   ],
   "source": [
    "x2.columns"
   ]
  },
  {
   "cell_type": "code",
   "execution_count": 34,
   "metadata": {},
   "outputs": [
    {
     "data": {
      "text/html": [
       "<div>\n",
       "<style scoped>\n",
       "    .dataframe tbody tr th:only-of-type {\n",
       "        vertical-align: middle;\n",
       "    }\n",
       "\n",
       "    .dataframe tbody tr th {\n",
       "        vertical-align: top;\n",
       "    }\n",
       "\n",
       "    .dataframe thead th {\n",
       "        text-align: right;\n",
       "    }\n",
       "</style>\n",
       "<table border=\"1\" class=\"dataframe\">\n",
       "  <thead>\n",
       "    <tr style=\"text-align: right;\">\n",
       "      <th></th>\n",
       "      <th>col</th>\n",
       "      <th>years_exp</th>\n",
       "      <th>honors</th>\n",
       "      <th>military</th>\n",
       "      <th>email</th>\n",
       "      <th>city_c</th>\n",
       "      <th>race_w</th>\n",
       "      <th>sex_m</th>\n",
       "    </tr>\n",
       "  </thead>\n",
       "  <tbody>\n",
       "    <tr>\n",
       "      <th>0</th>\n",
       "      <td>1</td>\n",
       "      <td>6</td>\n",
       "      <td>0</td>\n",
       "      <td>0</td>\n",
       "      <td>0</td>\n",
       "      <td>1</td>\n",
       "      <td>1</td>\n",
       "      <td>0</td>\n",
       "    </tr>\n",
       "    <tr>\n",
       "      <th>1</th>\n",
       "      <td>0</td>\n",
       "      <td>6</td>\n",
       "      <td>0</td>\n",
       "      <td>1</td>\n",
       "      <td>1</td>\n",
       "      <td>1</td>\n",
       "      <td>1</td>\n",
       "      <td>0</td>\n",
       "    </tr>\n",
       "  </tbody>\n",
       "</table>\n",
       "</div>"
      ],
      "text/plain": [
       "   col  years_exp  honors  military  email  city_c  race_w  sex_m\n",
       "0    1          6       0         0      0       1       1      0\n",
       "1    0          6       0         1      1       1       1      0"
      ]
     },
     "execution_count": 34,
     "metadata": {},
     "output_type": "execute_result"
    }
   ],
   "source": [
    "x2.head(2)"
   ]
  },
  {
   "cell_type": "code",
   "execution_count": 35,
   "metadata": {},
   "outputs": [],
   "source": [
    "coeff_df = pd.DataFrame(lr2.coef_,columns=x2.columns)"
   ]
  },
  {
   "cell_type": "code",
   "execution_count": 36,
   "metadata": {},
   "outputs": [
    {
     "data": {
      "text/html": [
       "<div>\n",
       "<style scoped>\n",
       "    .dataframe tbody tr th:only-of-type {\n",
       "        vertical-align: middle;\n",
       "    }\n",
       "\n",
       "    .dataframe tbody tr th {\n",
       "        vertical-align: top;\n",
       "    }\n",
       "\n",
       "    .dataframe thead th {\n",
       "        text-align: right;\n",
       "    }\n",
       "</style>\n",
       "<table border=\"1\" class=\"dataframe\">\n",
       "  <thead>\n",
       "    <tr style=\"text-align: right;\">\n",
       "      <th></th>\n",
       "      <th>0</th>\n",
       "    </tr>\n",
       "  </thead>\n",
       "  <tbody>\n",
       "    <tr>\n",
       "      <th>col</th>\n",
       "      <td>-0.065075</td>\n",
       "    </tr>\n",
       "    <tr>\n",
       "      <th>years_exp</th>\n",
       "      <td>0.020640</td>\n",
       "    </tr>\n",
       "    <tr>\n",
       "      <th>honors</th>\n",
       "      <td>0.742463</td>\n",
       "    </tr>\n",
       "    <tr>\n",
       "      <th>military</th>\n",
       "      <td>-0.322939</td>\n",
       "    </tr>\n",
       "    <tr>\n",
       "      <th>email</th>\n",
       "      <td>0.214579</td>\n",
       "    </tr>\n",
       "    <tr>\n",
       "      <th>city_c</th>\n",
       "      <td>-0.431711</td>\n",
       "    </tr>\n",
       "    <tr>\n",
       "      <th>race_w</th>\n",
       "      <td>0.437099</td>\n",
       "    </tr>\n",
       "    <tr>\n",
       "      <th>sex_m</th>\n",
       "      <td>-0.178898</td>\n",
       "    </tr>\n",
       "  </tbody>\n",
       "</table>\n",
       "</div>"
      ],
      "text/plain": [
       "                  0\n",
       "col       -0.065075\n",
       "years_exp  0.020640\n",
       "honors     0.742463\n",
       "military  -0.322939\n",
       "email      0.214579\n",
       "city_c    -0.431711\n",
       "race_w     0.437099\n",
       "sex_m     -0.178898"
      ]
     },
     "execution_count": 36,
     "metadata": {},
     "output_type": "execute_result"
    }
   ],
   "source": [
    "coeff_df.transpose()      #Coefficient of each of the variables "
   ]
  },
  {
   "cell_type": "code",
   "execution_count": null,
   "metadata": {},
   "outputs": [],
   "source": []
  },
  {
   "cell_type": "markdown",
   "metadata": {},
   "source": [
    "### Based on the model results, was race a meaningful factor for if a prospective employer would call back?\n",
    "\n",
    "- We see that the p-value for this coeffcient is very small (very nearly zero), which implies that race played a statistically signifcant role in whether a candidate received a callback. \n",
    "- Additionally, we see that the coefcient shown corresponds to the level of white, and it is positive. This positive coeffcient reflects a positive gain in callback rate for resumes where the candidate's frst name implied they were White. \n",
    "\n",
    "The data provide very strong evidence of racism by prospective employers that favors resumes where the \f",
    "rst name is typically interpreted to be White."
   ]
  },
  {
   "cell_type": "code",
   "execution_count": null,
   "metadata": {},
   "outputs": [],
   "source": []
  },
  {
   "cell_type": "markdown",
   "metadata": {},
   "source": [
    "log(pi/1-pi) ~ intercept +- coeff1Xcity +- coeffXrace ............ and so on\n",
    "<br>\n",
    "\n",
    "log(pi/1-pi) = -2.75 + ___ x honors\n",
    "\n",
    "\n",
    "#### Interpretation - \n",
    "\n",
    "\n",
    "\n",
    "\n",
    "\n",
    "\n",
    "\n",
    "### how to get the probability value with code??\n",
    "### also how to get the P-value to check if variable is significant???"
   ]
  },
  {
   "cell_type": "code",
   "execution_count": null,
   "metadata": {},
   "outputs": [],
   "source": []
  },
  {
   "cell_type": "code",
   "execution_count": 41,
   "metadata": {},
   "outputs": [
    {
     "data": {
      "text/html": [
       "<div>\n",
       "<style scoped>\n",
       "    .dataframe tbody tr th:only-of-type {\n",
       "        vertical-align: middle;\n",
       "    }\n",
       "\n",
       "    .dataframe tbody tr th {\n",
       "        vertical-align: top;\n",
       "    }\n",
       "\n",
       "    .dataframe thead th {\n",
       "        text-align: right;\n",
       "    }\n",
       "</style>\n",
       "<table border=\"1\" class=\"dataframe\">\n",
       "  <thead>\n",
       "    <tr style=\"text-align: right;\">\n",
       "      <th></th>\n",
       "      <th>col</th>\n",
       "      <th>years_exp</th>\n",
       "      <th>honors</th>\n",
       "      <th>military</th>\n",
       "      <th>email</th>\n",
       "      <th>city_c</th>\n",
       "      <th>race_w</th>\n",
       "      <th>sex_m</th>\n",
       "    </tr>\n",
       "  </thead>\n",
       "  <tbody>\n",
       "    <tr>\n",
       "      <th>0</th>\n",
       "      <td>1</td>\n",
       "      <td>6</td>\n",
       "      <td>0</td>\n",
       "      <td>0</td>\n",
       "      <td>0</td>\n",
       "      <td>1</td>\n",
       "      <td>1</td>\n",
       "      <td>0</td>\n",
       "    </tr>\n",
       "    <tr>\n",
       "      <th>1</th>\n",
       "      <td>0</td>\n",
       "      <td>6</td>\n",
       "      <td>0</td>\n",
       "      <td>1</td>\n",
       "      <td>1</td>\n",
       "      <td>1</td>\n",
       "      <td>1</td>\n",
       "      <td>0</td>\n",
       "    </tr>\n",
       "    <tr>\n",
       "      <th>2</th>\n",
       "      <td>1</td>\n",
       "      <td>6</td>\n",
       "      <td>0</td>\n",
       "      <td>0</td>\n",
       "      <td>0</td>\n",
       "      <td>1</td>\n",
       "      <td>0</td>\n",
       "      <td>0</td>\n",
       "    </tr>\n",
       "    <tr>\n",
       "      <th>3</th>\n",
       "      <td>0</td>\n",
       "      <td>6</td>\n",
       "      <td>0</td>\n",
       "      <td>0</td>\n",
       "      <td>1</td>\n",
       "      <td>1</td>\n",
       "      <td>0</td>\n",
       "      <td>0</td>\n",
       "    </tr>\n",
       "    <tr>\n",
       "      <th>4</th>\n",
       "      <td>0</td>\n",
       "      <td>22</td>\n",
       "      <td>0</td>\n",
       "      <td>0</td>\n",
       "      <td>1</td>\n",
       "      <td>1</td>\n",
       "      <td>1</td>\n",
       "      <td>0</td>\n",
       "    </tr>\n",
       "    <tr>\n",
       "      <th>...</th>\n",
       "      <td>...</td>\n",
       "      <td>...</td>\n",
       "      <td>...</td>\n",
       "      <td>...</td>\n",
       "      <td>...</td>\n",
       "      <td>...</td>\n",
       "      <td>...</td>\n",
       "      <td>...</td>\n",
       "    </tr>\n",
       "    <tr>\n",
       "      <th>4865</th>\n",
       "      <td>0</td>\n",
       "      <td>1</td>\n",
       "      <td>0</td>\n",
       "      <td>0</td>\n",
       "      <td>0</td>\n",
       "      <td>0</td>\n",
       "      <td>0</td>\n",
       "      <td>0</td>\n",
       "    </tr>\n",
       "    <tr>\n",
       "      <th>4866</th>\n",
       "      <td>1</td>\n",
       "      <td>6</td>\n",
       "      <td>0</td>\n",
       "      <td>0</td>\n",
       "      <td>0</td>\n",
       "      <td>0</td>\n",
       "      <td>0</td>\n",
       "      <td>0</td>\n",
       "    </tr>\n",
       "    <tr>\n",
       "      <th>4867</th>\n",
       "      <td>1</td>\n",
       "      <td>8</td>\n",
       "      <td>0</td>\n",
       "      <td>0</td>\n",
       "      <td>1</td>\n",
       "      <td>0</td>\n",
       "      <td>1</td>\n",
       "      <td>1</td>\n",
       "    </tr>\n",
       "    <tr>\n",
       "      <th>4868</th>\n",
       "      <td>1</td>\n",
       "      <td>2</td>\n",
       "      <td>0</td>\n",
       "      <td>1</td>\n",
       "      <td>1</td>\n",
       "      <td>0</td>\n",
       "      <td>0</td>\n",
       "      <td>0</td>\n",
       "    </tr>\n",
       "    <tr>\n",
       "      <th>4869</th>\n",
       "      <td>1</td>\n",
       "      <td>7</td>\n",
       "      <td>0</td>\n",
       "      <td>0</td>\n",
       "      <td>0</td>\n",
       "      <td>0</td>\n",
       "      <td>1</td>\n",
       "      <td>0</td>\n",
       "    </tr>\n",
       "  </tbody>\n",
       "</table>\n",
       "<p>4870 rows × 8 columns</p>\n",
       "</div>"
      ],
      "text/plain": [
       "      col  years_exp  honors  military  email  city_c  race_w  sex_m\n",
       "0       1          6       0         0      0       1       1      0\n",
       "1       0          6       0         1      1       1       1      0\n",
       "2       1          6       0         0      0       1       0      0\n",
       "3       0          6       0         0      1       1       0      0\n",
       "4       0         22       0         0      1       1       1      0\n",
       "...   ...        ...     ...       ...    ...     ...     ...    ...\n",
       "4865    0          1       0         0      0       0       0      0\n",
       "4866    1          6       0         0      0       0       0      0\n",
       "4867    1          8       0         0      1       0       1      1\n",
       "4868    1          2       0         1      1       0       0      0\n",
       "4869    1          7       0         0      0       0       1      0\n",
       "\n",
       "[4870 rows x 8 columns]"
      ]
     },
     "execution_count": 41,
     "metadata": {},
     "output_type": "execute_result"
    }
   ],
   "source": [
    "x2"
   ]
  },
  {
   "cell_type": "code",
   "execution_count": 40,
   "metadata": {},
   "outputs": [
    {
     "data": {
      "text/plain": [
       "0       0\n",
       "1       0\n",
       "2       0\n",
       "3       0\n",
       "4       0\n",
       "       ..\n",
       "4865    0\n",
       "4866    0\n",
       "4867    0\n",
       "4868    0\n",
       "4869    0\n",
       "Name: call, Length: 4870, dtype: int64"
      ]
     },
     "execution_count": 40,
     "metadata": {},
     "output_type": "execute_result"
    }
   ],
   "source": [
    "y2"
   ]
  },
  {
   "cell_type": "code",
   "execution_count": null,
   "metadata": {},
   "outputs": [],
   "source": []
  },
  {
   "cell_type": "code",
   "execution_count": null,
   "metadata": {},
   "outputs": [],
   "source": []
  },
  {
   "cell_type": "markdown",
   "metadata": {},
   "source": [
    "### Logistic Regression using Statsmodel\n",
    "\n",
    "The <b>Logit model</b> returns the Logit object.<br>\n",
    "https://www.statsmodels.org/stable/examples/notebooks/generated/discrete_choice_overview.html\n"
   ]
  },
  {
   "cell_type": "code",
   "execution_count": 42,
   "metadata": {},
   "outputs": [
    {
     "name": "stdout",
     "output_type": "stream",
     "text": [
      "Parameters:  const       -2.663181\n",
      "col         -0.066647\n",
      "years_exp    0.019982\n",
      "honors       0.769418\n",
      "military    -0.342166\n",
      "email        0.218261\n",
      "city_c      -0.440267\n",
      "race_w       0.442411\n",
      "sex_m       -0.181835\n",
      "dtype: float64\n"
     ]
    }
   ],
   "source": [
    "logit_mod = sm.Logit(y2,sm.add_constant(x2))\n",
    "logit_res = logit_mod.fit(disp=0)\n",
    "print(\"Parameters: \", logit_res.params)"
   ]
  },
  {
   "cell_type": "code",
   "execution_count": 39,
   "metadata": {},
   "outputs": [
    {
     "name": "stdout",
     "output_type": "stream",
     "text": [
      "        Logit Marginal Effects       \n",
      "=====================================\n",
      "Dep. Variable:                   call\n",
      "Method:                          dydx\n",
      "At:                           overall\n",
      "==============================================================================\n",
      "                dy/dx    std err          z      P>|z|      [0.025      0.975]\n",
      "------------------------------------------------------------------------------\n",
      "col           -0.0049      0.009     -0.550      0.582      -0.022       0.012\n",
      "years_exp      0.0015      0.001      1.955      0.051   -3.75e-06       0.003\n",
      "honors         0.0560      0.014      4.119      0.000       0.029       0.083\n",
      "military      -0.0249      0.016     -1.584      0.113      -0.056       0.006\n",
      "email          0.0159      0.008      1.923      0.054      -0.000       0.032\n",
      "city_c        -0.0321      0.008     -3.828      0.000      -0.048      -0.016\n",
      "race_w         0.0322      0.008      4.061      0.000       0.017       0.048\n",
      "sex_m         -0.0132      0.010     -1.321      0.187      -0.033       0.006\n",
      "==============================================================================\n"
     ]
    }
   ],
   "source": [
    "margeff = logit_res.get_margeff()\n",
    "print(margeff.summary())\n"
   ]
  },
  {
   "cell_type": "code",
   "execution_count": 45,
   "metadata": {},
   "outputs": [
    {
     "name": "stdout",
     "output_type": "stream",
     "text": [
      "                           Logit Regression Results                           \n",
      "==============================================================================\n",
      "Dep. Variable:                   call   No. Observations:                 4870\n",
      "Model:                          Logit   Df Residuals:                     4861\n",
      "Method:                           MLE   Df Model:                            8\n",
      "Date:                Tue, 04 Apr 2023   Pseudo R-squ.:                 0.02482\n",
      "Time:                        11:27:03   Log-Likelihood:                -1329.6\n",
      "converged:                       True   LL-Null:                       -1363.5\n",
      "Covariance Type:            nonrobust   LLR p-value:                 1.425e-11\n",
      "==============================================================================\n",
      "                 coef    std err          z      P>|z|      [0.025      0.975]\n",
      "------------------------------------------------------------------------------\n",
      "const         -2.6632      0.182    -14.636      0.000      -3.020      -2.307\n",
      "col           -0.0666      0.121     -0.550      0.582      -0.304       0.171\n",
      "years_exp      0.0200      0.010      1.957      0.050    -2.6e-05       0.040\n",
      "honors         0.7694      0.186      4.141      0.000       0.405       1.134\n",
      "military      -0.3422      0.216     -1.586      0.113      -0.765       0.081\n",
      "email          0.2183      0.113      1.926      0.054      -0.004       0.440\n",
      "city_c        -0.4403      0.114     -3.855      0.000      -0.664      -0.216\n",
      "race_w         0.4424      0.108      4.095      0.000       0.231       0.654\n",
      "sex_m         -0.1818      0.138     -1.322      0.186      -0.451       0.088\n",
      "==============================================================================\n"
     ]
    }
   ],
   "source": [
    "print(logit_res.summary())"
   ]
  },
  {
   "cell_type": "markdown",
   "metadata": {},
   "source": []
  },
  {
   "cell_type": "code",
   "execution_count": null,
   "metadata": {},
   "outputs": [],
   "source": []
  },
  {
   "cell_type": "code",
   "execution_count": null,
   "metadata": {},
   "outputs": [],
   "source": []
  },
  {
   "cell_type": "code",
   "execution_count": null,
   "metadata": {},
   "outputs": [],
   "source": [
    "# res = GLM(\n",
    "#     df[\"constrict\"],\n",
    "#     df[[\"const\", \"log_rate\", \"log_volumne\"]],\n",
    "#     family=families.Binomial(),\n",
    "# ).fit(attach_wls=True, atol=1e-10)\n",
    "# print(res.summary())"
   ]
  },
  {
   "cell_type": "code",
   "execution_count": null,
   "metadata": {},
   "outputs": [],
   "source": [
    "#families."
   ]
  },
  {
   "cell_type": "code",
   "execution_count": 103,
   "metadata": {},
   "outputs": [],
   "source": [
    "#res = GLM(y2,x2,family=families.Binomial()).fit()"
   ]
  },
  {
   "cell_type": "code",
   "execution_count": 104,
   "metadata": {},
   "outputs": [
    {
     "name": "stdout",
     "output_type": "stream",
     "text": [
      "                 Generalized Linear Model Regression Results                  \n",
      "==============================================================================\n",
      "Dep. Variable:                   call   No. Observations:                 4870\n",
      "Model:                            GLM   Df Residuals:                     4862\n",
      "Model Family:                Binomial   Df Model:                            7\n",
      "Link Function:                  logit   Scale:                          1.0000\n",
      "Method:                          IRLS   Log-Likelihood:                -1461.4\n",
      "Date:                Sat, 01 Apr 2023   Deviance:                       2922.9\n",
      "Time:                        21:06:13   Pearson chi2:                 6.53e+03\n",
      "No. Iterations:                     6                                         \n",
      "Covariance Type:            nonrobust                                         \n",
      "==============================================================================\n",
      "                 coef    std err          z      P>|z|      [0.025      0.975]\n",
      "------------------------------------------------------------------------------\n",
      "col           -0.9476      0.094    -10.097      0.000      -1.132      -0.764\n",
      "years_exp     -0.0952      0.009    -10.134      0.000      -0.114      -0.077\n",
      "honors         1.0857      0.190      5.722      0.000       0.714       1.458\n",
      "military      -0.8730      0.216     -4.044      0.000      -1.296      -0.450\n",
      "email         -0.0918      0.109     -0.846      0.398      -0.304       0.121\n",
      "city_c        -1.3065      0.093    -14.023      0.000      -1.489      -1.124\n",
      "race_w        -0.1519      0.092     -1.642      0.101      -0.333       0.029\n",
      "sex_m         -0.5170      0.133     -3.899      0.000      -0.777      -0.257\n",
      "==============================================================================\n"
     ]
    }
   ],
   "source": [
    "#print(res.summary())"
   ]
  },
  {
   "cell_type": "code",
   "execution_count": null,
   "metadata": {},
   "outputs": [],
   "source": []
  }
 ],
 "metadata": {
  "kernelspec": {
   "display_name": "Python 3",
   "language": "python",
   "name": "python3"
  },
  "language_info": {
   "codemirror_mode": {
    "name": "ipython",
    "version": 3
   },
   "file_extension": ".py",
   "mimetype": "text/x-python",
   "name": "python",
   "nbconvert_exporter": "python",
   "pygments_lexer": "ipython3",
   "version": "3.8.5"
  }
 },
 "nbformat": 4,
 "nbformat_minor": 4
}
