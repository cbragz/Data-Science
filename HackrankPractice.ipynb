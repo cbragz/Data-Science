{
 "cells": [
  {
   "cell_type": "code",
   "execution_count": null,
   "metadata": {},
   "outputs": [],
   "source": []
  },
  {
   "cell_type": "markdown",
   "metadata": {},
   "source": [
    "================================================================================\n"
   ]
  },
  {
   "cell_type": "markdown",
   "metadata": {},
   "source": [
    "#### TIme conversion 12 to 24. "
   ]
  },
  {
   "cell_type": "code",
   "execution_count": 2,
   "metadata": {},
   "outputs": [],
   "source": [
    "def timeConversions(s):\n",
    "    if s.split(':')[-1][-2]=='A':\n",
    "        if s.split(':')[0]=='12':\n",
    "            return('00'+':'+ s.split(':')[1]+ ':' +s.split(':')[2][0:2])\n",
    "        else:\n",
    "            return (s[0:len(s)-2])\n",
    "    else:\n",
    "        if s.split(':')[0]=='12':\n",
    "            return(s[0:len(s)-2])\n",
    "        else:\n",
    "            hh = 12 + int(s.split(':')[0])\n",
    "            return(str(hh)+':'+s.split(':')[1]+':'+s.split(':')[2][0:2])\n",
    "\n"
   ]
  },
  {
   "cell_type": "code",
   "execution_count": null,
   "metadata": {},
   "outputs": [],
   "source": [
    "#Alternate approach:\n",
    "\n",
    "time = input().strip()\n",
    "h, m, s = map(int, time[:-2].split(':'))\n",
    "p = time[-2:]\n",
    "h = h % 12 + (p.upper() == 'PM') * 12\n",
    "print(('%02d:%02d:%02d') % (h, m, s))\n"
   ]
  },
  {
   "cell_type": "markdown",
   "metadata": {},
   "source": [
    "================================================================================"
   ]
  },
  {
   "cell_type": "code",
   "execution_count": 2,
   "metadata": {},
   "outputs": [],
   "source": [
    "aa = '1.24kg'"
   ]
  },
  {
   "cell_type": "code",
   "execution_count": 3,
   "metadata": {},
   "outputs": [
    {
     "data": {
      "text/plain": [
       "'1.24kg'"
      ]
     },
     "execution_count": 3,
     "metadata": {},
     "output_type": "execute_result"
    }
   ],
   "source": [
    "aa"
   ]
  },
  {
   "cell_type": "code",
   "execution_count": 4,
   "metadata": {},
   "outputs": [
    {
     "data": {
      "text/plain": [
       "1.24"
      ]
     },
     "execution_count": 4,
     "metadata": {},
     "output_type": "execute_result"
    }
   ],
   "source": [
    "float(aa.split('k')[0])"
   ]
  },
  {
   "cell_type": "code",
   "execution_count": 5,
   "metadata": {},
   "outputs": [],
   "source": [
    "x = float(aa.split('k')[0])"
   ]
  },
  {
   "cell_type": "code",
   "execution_count": 14,
   "metadata": {},
   "outputs": [
    {
     "data": {
      "text/plain": [
       "float"
      ]
     },
     "execution_count": 14,
     "metadata": {},
     "output_type": "execute_result"
    }
   ],
   "source": [
    "type(x)"
   ]
  },
  {
   "cell_type": "code",
   "execution_count": 7,
   "metadata": {},
   "outputs": [
    {
     "name": "stdout",
     "output_type": "stream",
     "text": [
      "0\n",
      "1\n",
      "2\n",
      "3\n",
      "4\n"
     ]
    }
   ],
   "source": [
    "for i in range(0,5):\n",
    "    print (i)"
   ]
  },
  {
   "cell_type": "markdown",
   "metadata": {},
   "source": [
    "=========================================================================="
   ]
  },
  {
   "cell_type": "markdown",
   "metadata": {},
   "source": [
    "### Factorial of a number\n",
    "\n",
    "<b>Goal</b>:\n",
    "to calculate the factorial of a number that a user asked for.<br>\n",
    "\n",
    "<b>Alternate way to frame the goal</b>:<br>\n",
    "a numbers factorial is the number * the num-1 * (the num-2) * (num-3) ... (num -(num-1))<br>\n",
    "<br>\n",
    "so 5! = 5 x  4 x 3 x 2 x 1<br> <br>\n",
    "<b>Given/what you have</b>:\n",
    "\t<br>if-else stmnt, for looop,\n",
    "\t <br>while loop, functions, <br>lists, dictionaries\n",
    "\n",
    "<b>Steps / sudo code:</b> <br>\n",
    "get the number from the user<br>\n",
    "check if number is 0 , output 1.<br>\n",
    "\tif less than 0, output 'fact cannot be caluculated'<br>\n",
    "\tif num is > 0 <br>\n",
    "\t\t&ensp; get the num-1\tsay X1 <br>\n",
    "\t\t&ensp;then get num - (num-1)  say X2 <br>\n",
    "        &ensp;set factorial to be num <br>\n",
    "\t&ensp; &ensp;for i in between X2 to num <br>\n",
    "\t&ensp;&ensp; factorial = factorial x i <br>"
   ]
  },
  {
   "cell_type": "code",
   "execution_count": 20,
   "metadata": {},
   "outputs": [
    {
     "data": {
      "text/plain": [
       "5040"
      ]
     },
     "execution_count": 20,
     "metadata": {},
     "output_type": "execute_result"
    }
   ],
   "source": [
    "def num_factorial(num):\n",
    "    if num < 0:\n",
    "        return('no factorial of neg no')\n",
    "    if num == 0:\n",
    "        return (1)\n",
    "    else:\n",
    "        fact = num\n",
    "        end_multip = num - (num-1)\n",
    "        for i in range (end_multip,num):\n",
    "            fact = fact * i\n",
    "        return(fact)\n",
    "\n",
    "num_factorial(7)"
   ]
  },
  {
   "cell_type": "markdown",
   "metadata": {},
   "source": [
    " ===================================================="
   ]
  },
  {
   "cell_type": "markdown",
   "metadata": {},
   "source": [
    "### ZIGZAG Test"
   ]
  },
  {
   "cell_type": "code",
   "execution_count": 3,
   "metadata": {},
   "outputs": [
    {
     "name": "stdout",
     "output_type": "stream",
     "text": [
      "1\n",
      "2\n",
      "3\n",
      "4\n",
      "5\n",
      "6\n",
      "7\n",
      "8\n",
      "9\n",
      "10\n",
      "11\n"
     ]
    }
   ],
   "source": [
    "x=0\n",
    "while x<=10:\n",
    "    x+=1\n",
    "    print(x)"
   ]
  },
  {
   "cell_type": "code",
   "execution_count": 6,
   "metadata": {},
   "outputs": [
    {
     "data": {
      "text/plain": [
       "5"
      ]
     },
     "execution_count": 6,
     "metadata": {},
     "output_type": "execute_result"
    }
   ],
   "source": [
    "len(ar)"
   ]
  },
  {
   "cell_type": "code",
   "execution_count": 24,
   "metadata": {},
   "outputs": [
    {
     "name": "stdout",
     "output_type": "stream",
     "text": [
      "2 3 4\n",
      "3 4 5\n",
      "4 5 5\n"
     ]
    }
   ],
   "source": [
    "ar = [2,3,4,5,5]\n",
    "\n",
    "i=0\n",
    "while i <= len(ar)-3:\n",
    "    print(ar[i],ar[i+1],ar[i+2])\n",
    "    i+=1\n",
    "    "
   ]
  },
  {
   "cell_type": "code",
   "execution_count": 30,
   "metadata": {},
   "outputs": [
    {
     "data": {
      "text/plain": [
       "[1, 1, 0]"
      ]
     },
     "execution_count": 30,
     "metadata": {},
     "output_type": "execute_result"
    }
   ],
   "source": [
    "# A ZIGZAG test. a<b>c or a>b<c\n",
    "\n",
    "def solutions(numbers):\n",
    "    result_arr = []\n",
    "    tracker = 0\n",
    "    while tracker <= len(numbers)-3:\n",
    "        if ((numbers[tracker]<numbers[tracker+1]>numbers[tracker+2]) == True) | ((numbers[tracker]>numbers[tracker+1]<numbers[tracker+2])==True):\n",
    "            result_arr.append(1)\n",
    "        else:\n",
    "            result_arr.append(0)\n",
    "        tracker+=1\n",
    "    return(result_arr)\n",
    "        \n",
    "solutions([1,2,1,3,4])"
   ]
  },
  {
   "cell_type": "code",
   "execution_count": null,
   "metadata": {},
   "outputs": [],
   "source": []
  }
 ],
 "metadata": {
  "kernelspec": {
   "display_name": "Python 3",
   "language": "python",
   "name": "python3"
  },
  "language_info": {
   "codemirror_mode": {
    "name": "ipython",
    "version": 3
   },
   "file_extension": ".py",
   "mimetype": "text/x-python",
   "name": "python",
   "nbconvert_exporter": "python",
   "pygments_lexer": "ipython3",
   "version": "3.8.5"
  }
 },
 "nbformat": 4,
 "nbformat_minor": 4
}
