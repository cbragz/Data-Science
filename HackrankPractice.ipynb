{
 "cells": [
  {
   "cell_type": "code",
   "execution_count": null,
   "metadata": {},
   "outputs": [],
   "source": []
  },
  {
   "cell_type": "code",
   "execution_count": 1,
   "metadata": {},
   "outputs": [],
   "source": [
    "#Libraries you use\n",
    "\n",
    "#import pandas as pd\n",
    "#import numpy as mp\n",
    "#import matplotlib.pyplot as plt\n",
    "\n",
    "#import requests"
   ]
  },
  {
   "cell_type": "markdown",
   "metadata": {},
   "source": [
    "=================================##########===============================================\n"
   ]
  },
  {
   "cell_type": "markdown",
   "metadata": {},
   "source": [
    "#### TIme conversion 12 to 24. "
   ]
  },
  {
   "cell_type": "code",
   "execution_count": 2,
   "metadata": {},
   "outputs": [],
   "source": [
    "def timeConversions(s):\n",
    "    if s.split(':')[-1][-2]=='A':\n",
    "        if s.split(':')[0]=='12':\n",
    "            return('00'+':'+ s.split(':')[1]+ ':' +s.split(':')[2][0:2])\n",
    "        else:\n",
    "            return (s[0:len(s)-2])\n",
    "    else:\n",
    "        if s.split(':')[0]=='12':\n",
    "            return(s[0:len(s)-2])\n",
    "        else:\n",
    "            hh = 12 + int(s.split(':')[0])\n",
    "            return(str(hh)+':'+s.split(':')[1]+':'+s.split(':')[2][0:2])\n",
    "\n"
   ]
  },
  {
   "cell_type": "code",
   "execution_count": null,
   "metadata": {},
   "outputs": [],
   "source": [
    "#Alternate approach:\n",
    "\n",
    "time = input().strip()\n",
    "h, m, s = map(int, time[:-2].split(':'))\n",
    "p = time[-2:]\n",
    "h = h % 12 + (p.upper() == 'PM') * 12\n",
    "print(('%02d:%02d:%02d') % (h, m, s))\n"
   ]
  },
  {
   "cell_type": "markdown",
   "metadata": {},
   "source": [
    "================================================================================"
   ]
  },
  {
   "cell_type": "code",
   "execution_count": 2,
   "metadata": {},
   "outputs": [],
   "source": [
    "aa = '1.24kg'"
   ]
  },
  {
   "cell_type": "code",
   "execution_count": 3,
   "metadata": {},
   "outputs": [
    {
     "data": {
      "text/plain": [
       "'1.24kg'"
      ]
     },
     "execution_count": 3,
     "metadata": {},
     "output_type": "execute_result"
    }
   ],
   "source": [
    "aa"
   ]
  },
  {
   "cell_type": "code",
   "execution_count": 4,
   "metadata": {},
   "outputs": [
    {
     "data": {
      "text/plain": [
       "1.24"
      ]
     },
     "execution_count": 4,
     "metadata": {},
     "output_type": "execute_result"
    }
   ],
   "source": [
    "float(aa.split('k')[0])"
   ]
  },
  {
   "cell_type": "code",
   "execution_count": 5,
   "metadata": {},
   "outputs": [],
   "source": [
    "x = float(aa.split('k')[0])"
   ]
  },
  {
   "cell_type": "code",
   "execution_count": 14,
   "metadata": {},
   "outputs": [
    {
     "data": {
      "text/plain": [
       "float"
      ]
     },
     "execution_count": 14,
     "metadata": {},
     "output_type": "execute_result"
    }
   ],
   "source": [
    "type(x)"
   ]
  },
  {
   "cell_type": "code",
   "execution_count": 7,
   "metadata": {},
   "outputs": [
    {
     "name": "stdout",
     "output_type": "stream",
     "text": [
      "0\n",
      "1\n",
      "2\n",
      "3\n",
      "4\n"
     ]
    }
   ],
   "source": [
    "for i in range(0,5):\n",
    "    print (i)"
   ]
  },
  {
   "cell_type": "markdown",
   "metadata": {},
   "source": [
    "===============================########==========================================="
   ]
  },
  {
   "cell_type": "markdown",
   "metadata": {},
   "source": [
    "### Factorial of a number\n",
    "\n",
    "<b>Goal</b>:\n",
    "to calculate the factorial of a number that a user asked for.<br>\n",
    "\n",
    "<b>Alternate way to frame the goal</b>:<br>\n",
    "a numbers factorial is the number * the num-1 * (the num-2) * (num-3) ... (num -(num-1))<br>\n",
    "<br>\n",
    "so 5! = 5 x  4 x 3 x 2 x 1<br> <br>\n",
    "<b>Given/what you have</b>:\n",
    "\t<br>if-else stmnt, for looop,\n",
    "\t <br>while loop, functions, <br>lists, dictionaries\n",
    "\n",
    "<b>Steps / sudo code:</b> <br>\n",
    "get the number from the user<br>\n",
    "check if number is 0 , output 1.<br>\n",
    "\tif less than 0, output 'fact cannot be caluculated'<br>\n",
    "\tif num is > 0 <br>\n",
    "\t\t&ensp; get the num-1\tsay X1 <br>\n",
    "\t\t&ensp;then get num - (num-1)  say X2 <br>\n",
    "        &ensp;set factorial to be num <br>\n",
    "\t&ensp; &ensp;for i in between X2 to num <br>\n",
    "\t&ensp;&ensp; factorial = factorial x i <br>"
   ]
  },
  {
   "cell_type": "code",
   "execution_count": 91,
   "metadata": {},
   "outputs": [
    {
     "name": "stdout",
     "output_type": "stream",
     "text": [
      "Enter number for factorial:6\n"
     ]
    },
    {
     "data": {
      "text/plain": [
       "720"
      ]
     },
     "execution_count": 91,
     "metadata": {},
     "output_type": "execute_result"
    }
   ],
   "source": [
    "def num_factorial(n):\n",
    "    if n < 0:\n",
    "        return('No factorial of neg no.')\n",
    "    if n == 0:\n",
    "        return (1)\n",
    "    else:\n",
    "        fact = 1\n",
    "        for i in range(1,n+1):\n",
    "            fact = fact*i\n",
    "        return(fact)\n",
    "\n",
    "num_factorial(int(input('Enter number for factorial:')))"
   ]
  },
  {
   "cell_type": "code",
   "execution_count": null,
   "metadata": {},
   "outputs": [],
   "source": []
  },
  {
   "cell_type": "markdown",
   "metadata": {},
   "source": [
    " ======================##########=============================="
   ]
  },
  {
   "cell_type": "code",
   "execution_count": null,
   "metadata": {},
   "outputs": [],
   "source": []
  },
  {
   "cell_type": "markdown",
   "metadata": {},
   "source": [
    "### ZIGZAG Test"
   ]
  },
  {
   "cell_type": "code",
   "execution_count": 3,
   "metadata": {},
   "outputs": [
    {
     "name": "stdout",
     "output_type": "stream",
     "text": [
      "1\n",
      "2\n",
      "3\n",
      "4\n",
      "5\n",
      "6\n",
      "7\n",
      "8\n",
      "9\n",
      "10\n",
      "11\n"
     ]
    }
   ],
   "source": [
    "x=0\n",
    "while x<=10:\n",
    "    x+=1\n",
    "    print(x)"
   ]
  },
  {
   "cell_type": "code",
   "execution_count": 6,
   "metadata": {},
   "outputs": [
    {
     "data": {
      "text/plain": [
       "5"
      ]
     },
     "execution_count": 6,
     "metadata": {},
     "output_type": "execute_result"
    }
   ],
   "source": [
    "len(ar)"
   ]
  },
  {
   "cell_type": "code",
   "execution_count": 24,
   "metadata": {},
   "outputs": [
    {
     "name": "stdout",
     "output_type": "stream",
     "text": [
      "2 3 4\n",
      "3 4 5\n",
      "4 5 5\n"
     ]
    }
   ],
   "source": [
    "ar = [2,3,4,5,5]\n",
    "\n",
    "i=0\n",
    "while i <= len(ar)-3:\n",
    "    print(ar[i],ar[i+1],ar[i+2])\n",
    "    i+=1\n",
    "    "
   ]
  },
  {
   "cell_type": "code",
   "execution_count": 30,
   "metadata": {},
   "outputs": [
    {
     "data": {
      "text/plain": [
       "[1, 1, 0]"
      ]
     },
     "execution_count": 30,
     "metadata": {},
     "output_type": "execute_result"
    }
   ],
   "source": [
    "# A ZIGZAG test. a<b>c or a>b<c\n",
    "\n",
    "def solutions(numbers):\n",
    "    result_arr = []\n",
    "    tracker = 0\n",
    "    while tracker <= len(numbers)-3:\n",
    "        if ((numbers[tracker]<numbers[tracker+1]>numbers[tracker+2]) == True) | ((numbers[tracker]>numbers[tracker+1]<numbers[tracker+2])==True):\n",
    "            result_arr.append(1)\n",
    "        else:\n",
    "            result_arr.append(0)\n",
    "        tracker+=1\n",
    "    return(result_arr)\n",
    "        \n",
    "solutions([1,2,1,3,4])"
   ]
  },
  {
   "cell_type": "code",
   "execution_count": null,
   "metadata": {},
   "outputs": [],
   "source": []
  },
  {
   "cell_type": "code",
   "execution_count": null,
   "metadata": {},
   "outputs": [],
   "source": []
  },
  {
   "cell_type": "markdown",
   "metadata": {},
   "source": [
    "=================############==================="
   ]
  },
  {
   "cell_type": "markdown",
   "metadata": {},
   "source": [
    "### Coursera (Text editor)"
   ]
  },
  {
   "cell_type": "code",
   "execution_count": 41,
   "metadata": {},
   "outputs": [
    {
     "data": {
      "text/plain": [
       "['Hey',\n",
       " 'Hey you',\n",
       " \"Hey you, don't\",\n",
       " \"Hey you, don't \",\n",
       " \"Hey you, don't let me down\"]"
      ]
     },
     "execution_count": 41,
     "metadata": {},
     "output_type": "execute_result"
    }
   ],
   "source": [
    "def sol_fun(queries):\n",
    "    fin_arr = []\n",
    "    act = ''\n",
    "    val = ''\n",
    "    quer_len_tr = 0\n",
    "    while quer_len_tr<len(queries):\n",
    "        for i in queries:\n",
    "            act = i[0]\n",
    "            val = i[1]\n",
    "            if act == 'APPEND':\n",
    "                if quer_len_tr == 0:\n",
    "                    fin_arr.append(val)\n",
    "                else:\n",
    "                    fin_arr.append(fin_arr[quer_len_tr-1]+val)\n",
    "            quer_len_tr+=1\n",
    "    return(fin_arr)\n",
    "        \n",
    "        \n",
    "sol_fun([[\"APPEND\",\"Hey\"], \n",
    " [\"APPEND\",\" you\"], \n",
    " [\"APPEND\",\", don't\"], \n",
    " [\"APPEND\",\" \"], \n",
    " [\"APPEND\",\"let me down\"]])"
   ]
  },
  {
   "cell_type": "markdown",
   "metadata": {},
   "source": [
    "=========== =========######### ==============================="
   ]
  },
  {
   "cell_type": "markdown",
   "metadata": {},
   "source": [
    "#### API calls example"
   ]
  },
  {
   "cell_type": "code",
   "execution_count": 70,
   "metadata": {},
   "outputs": [
    {
     "name": "stdout",
     "output_type": "stream",
     "text": [
      "Active cases in South Andaman: 19\n"
     ]
    }
   ],
   "source": [
    "import requests\n",
    "import json\n",
    "\n",
    "#Connect to API\n",
    "response_API = requests.get('https://api.covid19india.org/state_district_wise.json')\n",
    "\n",
    "#print(response_API.status_code)\n",
    "\n",
    "#Pull data from API\n",
    "data = response_API.text        #Can print(data) to check that its JSON format\n",
    "\n",
    "#parse the data as json\n",
    "parse_json = json.loads(data)\n",
    "\n",
    "active_case = parse_json['Andaman and Nicobar Islands']['districtData']['South Andaman']['active']\n",
    "\n",
    "print(\"Active cases in South Andaman:\", active_case)"
   ]
  },
  {
   "cell_type": "markdown",
   "metadata": {},
   "source": [
    "===================########=================="
   ]
  },
  {
   "cell_type": "code",
   "execution_count": null,
   "metadata": {},
   "outputs": [],
   "source": []
  },
  {
   "cell_type": "code",
   "execution_count": 2,
   "metadata": {},
   "outputs": [],
   "source": [
    "x = [2,3,4,5]"
   ]
  },
  {
   "cell_type": "code",
   "execution_count": 7,
   "metadata": {},
   "outputs": [],
   "source": [
    "x.sort(reverse=True)"
   ]
  },
  {
   "cell_type": "code",
   "execution_count": 8,
   "metadata": {},
   "outputs": [
    {
     "data": {
      "text/plain": [
       "[5, 4, 3, 2]"
      ]
     },
     "execution_count": 8,
     "metadata": {},
     "output_type": "execute_result"
    }
   ],
   "source": [
    "x"
   ]
  },
  {
   "cell_type": "code",
   "execution_count": 40,
   "metadata": {},
   "outputs": [
    {
     "data": {
      "text/plain": [
       "[5, 4, 3]"
      ]
     },
     "execution_count": 40,
     "metadata": {},
     "output_type": "execute_result"
    }
   ],
   "source": [
    "x[0:3]   # remember List slicing is not inclusive of last index"
   ]
  },
  {
   "cell_type": "code",
   "execution_count": 10,
   "metadata": {},
   "outputs": [
    {
     "data": {
      "text/plain": [
       "12"
      ]
     },
     "execution_count": 10,
     "metadata": {},
     "output_type": "execute_result"
    }
   ],
   "source": [
    "sum(x[0:(len(x)-1)])"
   ]
  },
  {
   "cell_type": "code",
   "execution_count": 2,
   "metadata": {},
   "outputs": [
    {
     "name": "stdout",
     "output_type": "stream",
     "text": [
      "2\n",
      "3\n",
      "4\n",
      "5\n"
     ]
    }
   ],
   "source": [
    "for m in x:\n",
    "    print(m)"
   ]
  },
  {
   "cell_type": "markdown",
   "metadata": {},
   "source": [
    "==========================#######=================="
   ]
  },
  {
   "cell_type": "markdown",
   "metadata": {},
   "source": [
    "### Hacker Rank MIN MAX Problem\n",
    "\n",
    "\n",
    "<b>GOAL</b>: Given 5 Positive integers find the min and max possible values by summing exactly 4 of the 5 integers.\n",
    "\n",
    "Alternate way of phrasing it: \n",
    " - Find the sum of 4 smalles integers from a bunch  of integers (say n integers)\n",
    " - Find the sum of 4 largest integeers from a bunch of integers\n",
    "\n",
    "<b>Given</b>: \n",
    "5 integers.\n",
    "Integers can be 0 or equal to each other\n",
    "\n",
    "<b>STEPS</b>:\n",
    "\n",
    "Goal 1 --  Find sum of 4 smallest integers <br>\n",
    "        - create a empty array min_elements (or a sorted_arr, and then can do 1st 4 and for max last 4)<br>\n",
    "        - Store smallest 4 nos in this array <br>\n",
    "                     \t- But HOW??<br>\n",
    "\t- Start small (i.e with 3 elments), then scale it\n",
    "        \t\n",
    "<b>Instead of trying to create a sorted algorithm use LIST.SORT() method</b>         \n",
    "   "
   ]
  },
  {
   "cell_type": "code",
   "execution_count": 39,
   "metadata": {},
   "outputs": [
    {
     "name": "stdout",
     "output_type": "stream",
     "text": [
      "16 24\n"
     ]
    }
   ],
   "source": [
    "def min_max(arr):\n",
    "    sorted_elements = arr.sort()\n",
    "    min_sum = sum(arr[0:(len(arr)-1)])\n",
    "    max_sum = sum(arr[1:len(arr)])\n",
    "    return(print(min_sum,max_sum))\n",
    "\n",
    "min_max([1,3,5,7,9])"
   ]
  },
  {
   "cell_type": "markdown",
   "metadata": {},
   "source": [
    "#### Some Alternate options:\n",
    "<br>\n",
    "<i>\n",
    "x = sum(arr)\n",
    "\n",
    "minValue = x - max(arr)\n",
    "maxValue = x - min(arr)\n",
    "\n",
    "print(minValue, maxValue) </i>\n",
    "\n",
    "=----------------------==\n",
    "\n",
    "or check:\n",
    "\n",
    "https://www.youtube.com/watch?v=CNL1WzrtxGY&list=PLSIpQf0NbcCltzNFrOJkQ4J4AAjW3TSmA\n"
   ]
  },
  {
   "cell_type": "markdown",
   "metadata": {},
   "source": [
    "==========================#######=================="
   ]
  },
  {
   "cell_type": "code",
   "execution_count": null,
   "metadata": {},
   "outputs": [],
   "source": []
  },
  {
   "cell_type": "code",
   "execution_count": null,
   "metadata": {},
   "outputs": [],
   "source": []
  },
  {
   "cell_type": "markdown",
   "metadata": {},
   "source": [
    "#### CS dojo problem\n",
    "\n",
    "https://www.youtube.com/watch?v=GBuHSRDGZBY\n",
    "\n",
    "<b>GOAL:</b>\n",
    "Two Arrays given and a Target Number given <br>\n",
    "Find a pair of numbers, one number from each array, whose sum is closest to the target\n",
    "\n",
    "So solution function should give the pair/pairs whose sum is the closest and how close (so whats the difference to target)\n",
    "\n",
    "<b> Given: </b>\n",
    "Array 1 say [n1, n2 , n3...]  and Array 2 say [n11, n22, n33, n44, n55...] <br>\n",
    "And a target number say T\n",
    "\n",
    "\n",
    "<b>Other things to think about:\n",
    "- is there a simpler/intermediate problem you'd solve that brings you closer to the main solution    \n",
    "    \n",
    "- Any alternate but similar problem you've already solved. </b>\n",
    "\n",
    "\n",
    "    \n",
    "<b>Steps:</b>\n",
    "- find the sum of all possible pairs\n",
    "- find difference between the pair and the target, store this as distance.\n",
    "- if for next pair, new distance calculation is less than current distance calculation then update distance value and update the final array that stores the pair\n",
    "- Else if the new distance calc is equal to current distance, then only store the resuling pair to the final array.\n",
    "\n",
    "\n",
    "<b>NOTE </b><br>\n",
    "What we did here is a brute force solution, which is fine. But can we improve it. <br>\n",
    "To make the solution more efficient can we sort the input arrays in ascending order to make things faster <br>\n",
    "Efficient solutions will matter when it checks for time and space complexity comes into question\n",
    "\n"
   ]
  },
  {
   "cell_type": "code",
   "execution_count": 40,
   "metadata": {},
   "outputs": [
    {
     "data": {
      "text/plain": [
       "[(4, 8), (7, 5), (7, 7), (10, 4)]"
      ]
     },
     "execution_count": 40,
     "metadata": {},
     "output_type": "execute_result"
    }
   ],
   "source": [
    "\n",
    "\n",
    "def reach_target(a1,a2,t):\n",
    "    final_pairs = []\n",
    "    distance = sum(a1)+sum(a2)\n",
    "    for i in a1:\n",
    "        for j in a2:\n",
    "            #print(i,j,t,distance)\n",
    "            if abs(i+j-t) < distance:\n",
    "                distance = abs(i+j-t)\n",
    "                final_pairs = [(i,j)]\n",
    "            elif abs(i+j-t) == distance:\n",
    "                final_pairs.append((i,j))\n",
    "    return(final_pairs)\n",
    "\n",
    "\n",
    "reach_target( [-1,3,8,2,9,5] , [4,1,2,10,5,20], 24)\n",
    "\n",
    "reach_target([4,7,1,10],[4,5,8,7],13)"
   ]
  },
  {
   "cell_type": "code",
   "execution_count": null,
   "metadata": {},
   "outputs": [],
   "source": []
  },
  {
   "cell_type": "markdown",
   "metadata": {},
   "source": [
    "==========================#######=================="
   ]
  },
  {
   "cell_type": "code",
   "execution_count": 5,
   "metadata": {},
   "outputs": [
    {
     "data": {
      "text/plain": [
       "0"
      ]
     },
     "execution_count": 5,
     "metadata": {},
     "output_type": "execute_result"
    }
   ],
   "source": [
    "4%2"
   ]
  },
  {
   "cell_type": "code",
   "execution_count": 18,
   "metadata": {},
   "outputs": [
    {
     "name": "stdout",
     "output_type": "stream",
     "text": [
      "a\n"
     ]
    }
   ],
   "source": [
    "if 2>21 or 12>4:\n",
    "    print('a')"
   ]
  },
  {
   "cell_type": "markdown",
   "metadata": {},
   "source": []
  },
  {
   "cell_type": "markdown",
   "metadata": {},
   "source": [
    "==========================#######=================="
   ]
  },
  {
   "cell_type": "code",
   "execution_count": 6,
   "metadata": {},
   "outputs": [],
   "source": [
    "\n",
    "# https://www.hackerrank.com/challenges/between-two-sets/forum\n",
    "\n",
    "#WRONG  -- NEED TO REWORK THIS\n",
    "\n",
    "\n",
    "def bet_2_arr(arr1,arr2,len1,len2):\n",
    "    reqd_int=[]\n",
    "    #get multiples of smallest val in arr2\n",
    "    min_arr2 = min(arr2)\n",
    "    factors_arr2=[]\n",
    "    multiples_arr1=[]\n",
    "    for i in range(1,min_arr2+1):\n",
    "        if min_arr2%i==0:\n",
    "            factors_arr2.append(i)\n",
    "    for nos in range(max(arr1),min(arr2)+1):\n",
    "        if nos%max(arr1)==0:\n",
    "            multiples_arr1.append(nos)\n",
    "    reqd_int = [val for val in factors_arr2 if val in multiples_arr1]\n",
    "    #return(len(reqd_int))\n",
    "    return(factors_arr2,multiples_arr1)"
   ]
  },
  {
   "cell_type": "code",
   "execution_count": 7,
   "metadata": {},
   "outputs": [
    {
     "data": {
      "text/plain": [
       "([1, 2, 3, 4, 6, 8, 12, 24], [4, 8, 12, 16, 20, 24])"
      ]
     },
     "execution_count": 7,
     "metadata": {},
     "output_type": "execute_result"
    }
   ],
   "source": [
    "bet_2_arr([3,4],[24,48,96],2,3)"
   ]
  },
  {
   "cell_type": "code",
   "execution_count": null,
   "metadata": {},
   "outputs": [],
   "source": []
  },
  {
   "cell_type": "markdown",
   "metadata": {},
   "source": [
    "==========================#######=================="
   ]
  },
  {
   "cell_type": "code",
   "execution_count": null,
   "metadata": {},
   "outputs": [],
   "source": []
  },
  {
   "cell_type": "code",
   "execution_count": 15,
   "metadata": {},
   "outputs": [
    {
     "data": {
      "text/plain": [
       "(1, 25, 4, 2)"
      ]
     },
     "execution_count": 15,
     "metadata": {},
     "output_type": "execute_result"
    }
   ],
   "source": [
    "\n",
    "\n",
    "#Breaking Records question\n",
    "\n",
    "def breaking_records(scores):\n",
    "    min_score = scores[0]\n",
    "    max_score = scores[0]\n",
    "    min_broken_count = 0\n",
    "    max_broken_count = 0\n",
    "    game_count = len(scores)\n",
    "    for game_no in range(1,game_count):\n",
    "        if scores[game_no] < min_score:\n",
    "            min_broken_count+=1\n",
    "            min_score=scores[game_no]\n",
    "        elif scores[game_no]>max_score:\n",
    "            max_broken_count+=1\n",
    "            max_score=scores[game_no]\n",
    "    return(min_score, max_score,min_broken_count,max_broken_count)     \n",
    "\n",
    "\n",
    "        \n",
    "        \n",
    "breaking_records([10,5,20,20,4,5,2,25,1])"
   ]
  },
  {
   "cell_type": "code",
   "execution_count": null,
   "metadata": {},
   "outputs": [],
   "source": []
  },
  {
   "cell_type": "code",
   "execution_count": 48,
   "metadata": {},
   "outputs": [],
   "source": [
    "a = [12,3,24]\n",
    "a.reverse()"
   ]
  },
  {
   "cell_type": "code",
   "execution_count": 63,
   "metadata": {},
   "outputs": [],
   "source": [
    "c =[]"
   ]
  },
  {
   "cell_type": "code",
   "execution_count": 64,
   "metadata": {},
   "outputs": [],
   "source": [
    "c.append(1)"
   ]
  },
  {
   "cell_type": "code",
   "execution_count": 76,
   "metadata": {},
   "outputs": [],
   "source": [
    "c.insert(1,55)"
   ]
  },
  {
   "cell_type": "code",
   "execution_count": 77,
   "metadata": {},
   "outputs": [
    {
     "data": {
      "text/plain": [
       "[22, 55, 33, 19]"
      ]
     },
     "execution_count": 77,
     "metadata": {},
     "output_type": "execute_result"
    }
   ],
   "source": [
    "c"
   ]
  },
  {
   "cell_type": "code",
   "execution_count": 69,
   "metadata": {},
   "outputs": [],
   "source": [
    "c[0]=22"
   ]
  },
  {
   "cell_type": "code",
   "execution_count": 70,
   "metadata": {},
   "outputs": [
    {
     "data": {
      "text/plain": [
       "[22]"
      ]
     },
     "execution_count": 70,
     "metadata": {},
     "output_type": "execute_result"
    }
   ],
   "source": [
    "c"
   ]
  },
  {
   "cell_type": "markdown",
   "metadata": {},
   "source": [
    "==========================#######=================="
   ]
  },
  {
   "cell_type": "code",
   "execution_count": 20,
   "metadata": {},
   "outputs": [
    {
     "data": {
      "text/plain": [
       "5"
      ]
     },
     "execution_count": 20,
     "metadata": {},
     "output_type": "execute_result"
    }
   ],
   "source": [
    "\n",
    "#Bill Division\n",
    "'''\n",
    "bill - list of item prices \n",
    "k - index of didn't eat item\n",
    "b - amount charged\n",
    "'''\n",
    "\n",
    "\n",
    "def bonAppetit(bill, k, b):\n",
    "    total_bill = sum(bill)  #full bill\n",
    "    amt_to_collect = int((sum(bill) - bill[k])/2)\n",
    "    if b==amt_to_collect:\n",
    "        return(print('Bon Appetit'))\n",
    "    else:\n",
    "        return(b - amt_to_collect)\n",
    "\n",
    "bonAppetit([3,10,2,9],1,12)"
   ]
  },
  {
   "cell_type": "code",
   "execution_count": null,
   "metadata": {},
   "outputs": [],
   "source": []
  },
  {
   "cell_type": "markdown",
   "metadata": {},
   "source": [
    "==========================#######=================="
   ]
  },
  {
   "cell_type": "markdown",
   "metadata": {},
   "source": [
    "\n",
    "### We have a list of commands. Given a certain input from user based on the set of commands Output corresponding result for that command\n",
    "\n",
    "    insert i e: Insert integer e at position i\n",
    "    print: Print the list.\n",
    "    remove e: Delete the first occurrence of integer e\n",
    "    append e: Insert integer e at the end of the list.\n",
    "    sort: Sort the list.\n",
    "    pop: Pop the last element from the list.\n",
    "    reverse: Reverse the list.\n",
    "\n",
    "\n",
    "__Input:__<br>\n",
    "12         -- N i.e. Length of commands <br>\n",
    "insert 0 5 <br>\n",
    "insert 1 10<br>\n",
    "insert 0 6<br>\n",
    "print<br>\n",
    "remove 6<br>\n",
    "append 9<br>\n",
    "append 1<br>\n",
    "sort<br>\n",
    "print<br>\n",
    "pop<br>\n",
    "reverse<br>\n",
    "print<br>\n",
    "\n",
    "__Output:__ <br>\n",
    "[6, 5, 10] <br>\n",
    "[1, 5, 9, 10] <br>\n",
    "[9, 5, 1]"
   ]
  },
  {
   "cell_type": "code",
   "execution_count": 78,
   "metadata": {},
   "outputs": [
    {
     "name": "stdout",
     "output_type": "stream",
     "text": [
      "2\n",
      "22\n",
      "x\n"
     ]
    }
   ],
   "source": [
    "if __name__ == '__main__':\n",
    "    N = int(input())\n",
    "    li=[]\n",
    "    for entry in range(0,N):\n",
    "        a = input().split()                 #basically getting input (a list) each time and splitting it. then reading each element\n",
    "        if a[0]=='insert':\n",
    "            li.insert(int(a[1]),int(a[2]))\n",
    "        elif a[0] == 'print':\n",
    "            print(li)\n",
    "        elif a[0] == 'remove':\n",
    "            li.remove(int(a[1]))\n",
    "        elif a[0] == 'append':\n",
    "            li.append(int(a[1]))\n",
    "        elif a[0] == 'sort':\n",
    "            li.sort()\n",
    "        elif a[0] == 'pop':\n",
    "            li.pop()\n",
    "        elif a[0] == 'reverse':\n",
    "            li.reverse()"
   ]
  },
  {
   "cell_type": "code",
   "execution_count": null,
   "metadata": {},
   "outputs": [],
   "source": []
  },
  {
   "cell_type": "code",
   "execution_count": null,
   "metadata": {},
   "outputs": [],
   "source": []
  },
  {
   "cell_type": "markdown",
   "metadata": {},
   "source": [
    "==========================#######=================="
   ]
  },
  {
   "cell_type": "markdown",
   "metadata": {},
   "source": [
    "<b>Birthday Chocolate question</b>\n",
    "Find a contiguous segment of the bar with an integer value on each square selected such that:\n",
    "\n",
    "    The length of the segment matches Ron's birth month, and,\n",
    "    The sum of the integers on the squares is equal to his birth day.\n"
   ]
  },
  {
   "cell_type": "code",
   "execution_count": 2,
   "metadata": {},
   "outputs": [],
   "source": [
    "def combo_puller(input_arr,d=11,m=3):\n",
    "    res_count=0\n",
    "    for i in range(0, len(input_arr)):\n",
    "        if sum(input_arr[i:i+m])==d:\n",
    "            res_count+=1\n",
    "    return(res_count)\n",
    "\n",
    "            "
   ]
  },
  {
   "cell_type": "code",
   "execution_count": 4,
   "metadata": {},
   "outputs": [
    {
     "name": "stdout",
     "output_type": "stream",
     "text": [
      "3\n"
     ]
    }
   ],
   "source": [
    "print(combo_puller([11,2,4,5,7,6,5,0,9,1,1]))"
   ]
  },
  {
   "cell_type": "code",
   "execution_count": null,
   "metadata": {},
   "outputs": [],
   "source": []
  },
  {
   "cell_type": "markdown",
   "metadata": {},
   "source": [
    "==========================#######=================="
   ]
  },
  {
   "cell_type": "markdown",
   "metadata": {},
   "source": [
    "### ROUGH PRACTICE\n",
    "\n",
    "- taking input() from users\n",
    "- %s%d (OLD) and {} format operators \n",
    "- function calling another function\n",
    "- Zip function"
   ]
  },
  {
   "cell_type": "code",
   "execution_count": 10,
   "metadata": {},
   "outputs": [
    {
     "name": "stdout",
     "output_type": "stream",
     "text": [
      "enter last namebeckham\n",
      "the name is david beckham\n"
     ]
    }
   ],
   "source": [
    "def function_2(Fname,Lname):\n",
    "    print('the name is {} {}' .format(Fname,Lname))\n",
    "    \n",
    "function_2('david',input('enter last name'))    "
   ]
  },
  {
   "cell_type": "code",
   "execution_count": 14,
   "metadata": {},
   "outputs": [],
   "source": [
    "#-------------"
   ]
  },
  {
   "cell_type": "code",
   "execution_count": 15,
   "metadata": {},
   "outputs": [
    {
     "name": "stdout",
     "output_type": "stream",
     "text": [
      "spam\n",
      "spam\n"
     ]
    }
   ],
   "source": [
    "def print_spam():\n",
    "    print('spam')\n",
    "\n",
    "def do_twice(func):           #Note no () we just take the function name as an argument\n",
    "    func()\n",
    "    func()\n",
    "\n",
    "    \n",
    "do_twice(print_spam)        #print_spam here is called a Function Object that's being passed as an argument to another function"
   ]
  },
  {
   "cell_type": "code",
   "execution_count": 17,
   "metadata": {},
   "outputs": [],
   "source": [
    "# --------------"
   ]
  },
  {
   "cell_type": "code",
   "execution_count": 19,
   "metadata": {},
   "outputs": [
    {
     "name": "stdout",
     "output_type": "stream",
     "text": [
      "(1, 'stu1')\n",
      "(2, 'stu2')\n",
      "(3, 'stu3')\n",
      "(4, 'stu4')\n"
     ]
    }
   ],
   "source": [
    "# ZIP Function\n",
    "\n",
    "id = [1,2,3,4]\n",
    "name = ['stu1','stu2','stu3','stu4']\n",
    "\n",
    "combi = zip(id,name)   # A new object of type zip\n",
    "\n",
    "for pair in combi:\n",
    "    print(pair)\n"
   ]
  },
  {
   "cell_type": "code",
   "execution_count": 22,
   "metadata": {},
   "outputs": [
    {
     "name": "stdout",
     "output_type": "stream",
     "text": [
      "1 and the name is stu1\n",
      "2 and the name is stu2\n",
      "3 and the name is stu3\n",
      "4 and the name is stu4\n"
     ]
    }
   ],
   "source": [
    "for i,j in zip(id, name):\n",
    "    print('{} and the name is {}'.format(i,j))"
   ]
  },
  {
   "cell_type": "code",
   "execution_count": null,
   "metadata": {},
   "outputs": [],
   "source": []
  },
  {
   "cell_type": "code",
   "execution_count": null,
   "metadata": {},
   "outputs": [],
   "source": []
  },
  {
   "cell_type": "markdown",
   "metadata": {},
   "source": [
    "==========================#######=================="
   ]
  },
  {
   "cell_type": "markdown",
   "metadata": {},
   "source": [
    "<b>CAESERS CIPHER</b>\n",
    "\n",
    "Where each <i>plaintext</i> letter is replaced with a different one <br>\n",
    "Each letter may be shifted left of right by a certain count (the <i>KEY</i>)\n",
    "\n",
    "Example a left shift of 3 (or right shift of 23) looks like\n",
    "\n",
    "Plain\tA\tB\tC\tD\tE\tF\tG\tH\tI\tJ\tK\tL\tM\tN\tO\tP\tQ\tR\tS\tT\tU\tV\tW\tX\tY\tZ <br>\n",
    "Cipher\tX\tY\tZ\tA\tB\tC\tD\tE\tF\tG\tH\tI\tJ\tK\tL\tM\tN\tO\tP\tQ\tR\tS\tT\tU\tV\tW\n",
    "\n",
    "\n",
    "https://inventwithpython.com/chapter14.html"
   ]
  },
  {
   "cell_type": "code",
   "execution_count": 53,
   "metadata": {},
   "outputs": [
    {
     "name": "stdout",
     "output_type": "stream",
     "text": [
      "97 98 99 100 101 102 32 65 66 a b B\n"
     ]
    }
   ],
   "source": [
    "# Testing ASCII values\n",
    "\n",
    "va = ord('a')\n",
    "vb= ord('b')\n",
    "vc = ord('c')\n",
    "vd= ord('d')\n",
    "ve = ord('e')\n",
    "vf = ord('f')\n",
    "VA = ord('A')\n",
    "VB = ord('B')\n",
    "vsp = ord(' ')\n",
    "\n",
    "ra = chr(va)\n",
    "rb = chr(98)\n",
    "RB = chr(VB)\n",
    "\n",
    "\n",
    "print(va,vb,vc,vd,ve,vf,vsp,VA,VB,ra,rb,RB)"
   ]
  },
  {
   "cell_type": "code",
   "execution_count": 69,
   "metadata": {},
   "outputs": [],
   "source": [
    "#Building a CAESERS CIPHER \n",
    "# Steps: \n",
    "#     read the input string\n",
    "    \n",
    "#     convert each letter to ascii value and then shift by 3; leave space (i.e. 32 as is)\n",
    "#     convert ascii values back to letters\n",
    "#     output the ciphered text\n"
   ]
  },
  {
   "cell_type": "code",
   "execution_count": 80,
   "metadata": {},
   "outputs": [
    {
     "name": "stdout",
     "output_type": "stream",
     "text": [
      "^ pqofkd lc tloap\n"
     ]
    }
   ],
   "source": [
    "# Cipher EnCoder\n",
    "\n",
    "a = 'a string of words'\n",
    "key = 3\n",
    "b = ''\n",
    "for x in a:\n",
    "    if x == ' ':\n",
    "        b+=x\n",
    "    else:\n",
    "        b += chr(ord(x)-key)\n",
    "print(b)"
   ]
  },
  {
   "cell_type": "code",
   "execution_count": 82,
   "metadata": {},
   "outputs": [
    {
     "name": "stdout",
     "output_type": "stream",
     "text": [
      "a string of words\n"
     ]
    }
   ],
   "source": [
    "# Cipher DeCoder\n",
    "cyp = '^ pqofkd lc tloap'\n",
    "orig = ''\n",
    "for entry in cyp:\n",
    "    if entry == ' ':\n",
    "        orig += entry\n",
    "    else:\n",
    "        orig += chr(ord(entry)+key)\n",
    "\n",
    "print(orig)"
   ]
  },
  {
   "cell_type": "code",
   "execution_count": null,
   "metadata": {},
   "outputs": [],
   "source": []
  },
  {
   "cell_type": "markdown",
   "metadata": {},
   "source": [
    "==========================#######=================="
   ]
  },
  {
   "cell_type": "markdown",
   "metadata": {},
   "source": [
    "### Fibonacci Series\n",
    " A type series where each number is the sum of the two that precede it.\n",
    "0, 1, 1, 2, 3, 5, 8, 13, 21, 34, 55, 89 \n",
    "\n",
    "<b>Goal:</b> 0, 1, 1, 2, 3, 5, 8, 13, 21, 34, 55, 89     <br>\n",
    "        say till the first 10 digits<br>\n",
    "    Framed differently: <br>\n",
    "Get a List of numbers that follow the fib series. Such that length of the list is 10\n",
    "        \n",
    "\n",
    "<b>Given:</b> Your toolset - variables, list and list manipulations, dicts, tuples, Loops, Loop Control, Functions (including nested and recurring fns)\n",
    "\n",
    "<b>Steps:</b>\n",
    "\n",
    "\n"
   ]
  },
  {
   "cell_type": "code",
   "execution_count": 16,
   "metadata": {},
   "outputs": [
    {
     "name": "stdout",
     "output_type": "stream",
     "text": [
      "[0, 1, 1, 2, 3, 5, 8, 13, 21, 34]\n"
     ]
    }
   ],
   "source": [
    "li=[0,1]\n",
    "for x in range(2,10):\n",
    "    res = li[x-1] + li[x-2]\n",
    "    li.append(res)\n",
    "print(li)"
   ]
  },
  {
   "cell_type": "code",
   "execution_count": 18,
   "metadata": {},
   "outputs": [
    {
     "name": "stdout",
     "output_type": "stream",
     "text": [
      "0\n",
      "1\n",
      "1\n",
      "2\n",
      "3\n",
      "5\n",
      "8\n"
     ]
    }
   ],
   "source": [
    "#Alternate answer (recurring functions ?)\n",
    "\n",
    "\n",
    "def fib(n):\n",
    "    if n==0:\n",
    "        return 0\n",
    "    elif n==1:\n",
    "        return 1\n",
    "    return fib(n-1)+fib(n-2)\n",
    "\n",
    "for i in range (0,7):\n",
    "    print(fib(i))\n"
   ]
  },
  {
   "cell_type": "markdown",
   "metadata": {},
   "source": [
    "<b> We using the recursive relation with the seed values F0=0 and F1=1 , the kick off part <br>\n",
    "    and recurrsive relation Fn = Fn-1+Fn-2 </b>\n",
    "\n",
    "Take: F0=0 and F1=1\n",
    "\n",
    "Using the formula, we get\n",
    "\n",
    "F2 = F1+F0 = 1+0 = 1\n",
    "\n",
    "F3 = F2+F1 = 1+1 = 2\n",
    "\n",
    "F4 = F3+F2 = 2+1 = 3\n",
    "\n",
    "F5 = F4+F3 = 3+2 = 5"
   ]
  },
  {
   "cell_type": "code",
   "execution_count": null,
   "metadata": {},
   "outputs": [],
   "source": []
  },
  {
   "cell_type": "code",
   "execution_count": null,
   "metadata": {},
   "outputs": [],
   "source": []
  },
  {
   "cell_type": "markdown",
   "metadata": {},
   "source": [
    "==========================#######=================="
   ]
  },
  {
   "cell_type": "markdown",
   "metadata": {},
   "source": [
    "### ROUGH - Numpy / Pandas"
   ]
  },
  {
   "cell_type": "code",
   "execution_count": 1,
   "metadata": {},
   "outputs": [],
   "source": [
    "#numpy 2d arrays\n",
    "#slicing is [row_x:row_y,col_a:col_b]"
   ]
  },
  {
   "cell_type": "code",
   "execution_count": 10,
   "metadata": {},
   "outputs": [],
   "source": [
    "import numpy as np\n",
    "\n",
    "values = [7, 4, 5, 8, 9, 0, 1, 3, 2, 6]\n",
    "\n",
    "\n",
    "x = np.array(values)"
   ]
  },
  {
   "cell_type": "code",
   "execution_count": 31,
   "metadata": {},
   "outputs": [
    {
     "data": {
      "text/plain": [
       "array([6, 2, 3, 1, 0, 9, 8, 5, 4, 7])"
      ]
     },
     "execution_count": 31,
     "metadata": {},
     "output_type": "execute_result"
    }
   ],
   "source": [
    "x[::-1]"
   ]
  },
  {
   "cell_type": "code",
   "execution_count": 47,
   "metadata": {},
   "outputs": [
    {
     "data": {
      "text/plain": [
       "array([0, 1, 3, 2, 6])"
      ]
     },
     "execution_count": 47,
     "metadata": {},
     "output_type": "execute_result"
    }
   ],
   "source": [
    "x[len(x)//2:]"
   ]
  },
  {
   "cell_type": "code",
   "execution_count": 44,
   "metadata": {},
   "outputs": [
    {
     "data": {
      "text/plain": [
       "5"
      ]
     },
     "execution_count": 44,
     "metadata": {},
     "output_type": "execute_result"
    }
   ],
   "source": [
    "11//2"
   ]
  },
  {
   "cell_type": "code",
   "execution_count": 35,
   "metadata": {},
   "outputs": [],
   "source": [
    "\n",
    "array2d = np.array([\n",
    "    [ 1,  2,  3,  4,  5],\n",
    "    [ 6,  7,  8,  9, 10],\n",
    "    [11, 12, 13, 14, 15],\n",
    "    [16, 17, 18, 19, 20],\n",
    "])"
   ]
  },
  {
   "cell_type": "code",
   "execution_count": 37,
   "metadata": {},
   "outputs": [],
   "source": [
    "array2d[[1,3],::2] = 99"
   ]
  },
  {
   "cell_type": "code",
   "execution_count": null,
   "metadata": {},
   "outputs": [],
   "source": [
    "#Swapping Numpy array rows\n",
    "\n",
    "def swap_rows(x, row_index1, row_index2):\n",
    "    row1 = x[row_index1].copy()               #Note - the .copy() is required or do list(x[rowindex 1])\n",
    "    x[row_index1] = x[row_index2]              \n",
    "    x[row_index2] = row1\n",
    "\n",
    "# Alternative solution\n",
    "\n",
    "def swap_rows(x, row_index1, row_index2):\n",
    "    x[[row_index1, row_index2]] = x[[row_index2, row_index1]]\n",
    "    \n",
    "# Uncomment to test\n",
    "x = np.array([[1,  2,  3,  4], [5,  6,  7,  8], [9, 10, 11, 12]])\n",
    "swap_rows(x, 0, 2)\n",
    "print(x)"
   ]
  },
  {
   "cell_type": "code",
   "execution_count": null,
   "metadata": {},
   "outputs": [],
   "source": []
  },
  {
   "cell_type": "code",
   "execution_count": 50,
   "metadata": {},
   "outputs": [],
   "source": [
    "cb = {'a':22,'b':'dd','c':'ee', 'f':22 }"
   ]
  },
  {
   "cell_type": "code",
   "execution_count": 56,
   "metadata": {},
   "outputs": [
    {
     "data": {
      "text/plain": [
       "'ee'"
      ]
     },
     "execution_count": 56,
     "metadata": {},
     "output_type": "execute_result"
    }
   ],
   "source": [
    "cb.get('c')"
   ]
  },
  {
   "cell_type": "code",
   "execution_count": 57,
   "metadata": {},
   "outputs": [
    {
     "data": {
      "text/plain": [
       "'dd'"
      ]
     },
     "execution_count": 57,
     "metadata": {},
     "output_type": "execute_result"
    }
   ],
   "source": [
    "cb['b']"
   ]
  },
  {
   "cell_type": "code",
   "execution_count": 69,
   "metadata": {},
   "outputs": [
    {
     "name": "stdout",
     "output_type": "stream",
     "text": [
      "a\n",
      "b\n",
      "c\n",
      "f\n"
     ]
    }
   ],
   "source": [
    "for ent in cb:\n",
    "    print (ent)"
   ]
  },
  {
   "cell_type": "code",
   "execution_count": 70,
   "metadata": {},
   "outputs": [
    {
     "name": "stdout",
     "output_type": "stream",
     "text": [
      "Key: color Value: red\n",
      "Key: age Value: 42\n"
     ]
    }
   ],
   "source": [
    "spam = {'color': 'red', 'age': 42}\n",
    "for k, v in spam.items():\n",
    "    print('Key: ' + k + ' Value: ' + str(v))"
   ]
  },
  {
   "cell_type": "code",
   "execution_count": null,
   "metadata": {},
   "outputs": [],
   "source": []
  },
  {
   "cell_type": "code",
   "execution_count": 4,
   "metadata": {},
   "outputs": [
    {
     "data": {
      "text/html": [
       "<div>\n",
       "<style scoped>\n",
       "    .dataframe tbody tr th:only-of-type {\n",
       "        vertical-align: middle;\n",
       "    }\n",
       "\n",
       "    .dataframe tbody tr th {\n",
       "        vertical-align: top;\n",
       "    }\n",
       "\n",
       "    .dataframe thead th {\n",
       "        text-align: right;\n",
       "    }\n",
       "</style>\n",
       "<table border=\"1\" class=\"dataframe\">\n",
       "  <thead>\n",
       "    <tr style=\"text-align: right;\">\n",
       "      <th></th>\n",
       "      <th>0</th>\n",
       "      <th>1</th>\n",
       "      <th>2</th>\n",
       "    </tr>\n",
       "  </thead>\n",
       "  <tbody>\n",
       "    <tr>\n",
       "      <th>a</th>\n",
       "      <td>1</td>\n",
       "      <td>2</td>\n",
       "      <td>3</td>\n",
       "    </tr>\n",
       "    <tr>\n",
       "      <th>b</th>\n",
       "      <td>6</td>\n",
       "      <td>7</td>\n",
       "      <td>8</td>\n",
       "    </tr>\n",
       "    <tr>\n",
       "      <th>c</th>\n",
       "      <td>7</td>\n",
       "      <td>8</td>\n",
       "      <td>9</td>\n",
       "    </tr>\n",
       "  </tbody>\n",
       "</table>\n",
       "</div>"
      ],
      "text/plain": [
       "   0  1  2\n",
       "a  1  2  3\n",
       "b  6  7  8\n",
       "c  7  8  9"
      ]
     },
     "execution_count": 4,
     "metadata": {},
     "output_type": "execute_result"
    }
   ],
   "source": [
    "#Creating a DF\n",
    "\n",
    "pd.DataFrame([ [1,2,3],[6,7,8],[7,8,9] ], index=['a','b','c'])\n",
    "# A list of 3 elements (the 3 elements are lists). Will be added to DF row-wise\n"
   ]
  },
  {
   "cell_type": "code",
   "execution_count": null,
   "metadata": {},
   "outputs": [],
   "source": []
  },
  {
   "cell_type": "markdown",
   "metadata": {},
   "source": [
    "==========================#######=================="
   ]
  },
  {
   "cell_type": "code",
   "execution_count": 20,
   "metadata": {},
   "outputs": [],
   "source": []
  },
  {
   "cell_type": "code",
   "execution_count": 30,
   "metadata": {},
   "outputs": [
    {
     "name": "stdout",
     "output_type": "stream",
     "text": [
      "4\n"
     ]
    }
   ],
   "source": [
    "# Finding most frequent entry in an array\n",
    "\n",
    "inp_arr = [2,3,5,5,4,1,4]\n",
    "dics = {}\n",
    "for k in inp_arr:\n",
    "    if k in dics:\n",
    "        dics[k]+=1\n",
    "    else:\n",
    "        dics[k]=1\n",
    "res_arr=[]\n",
    "for h in dics:\n",
    "    if dics[h]==max(dics.values()):\n",
    "        res_arr.append(h)\n",
    "print(min(res_arr))            #if multiple entries with same freq print the smallest"
   ]
  },
  {
   "cell_type": "code",
   "execution_count": null,
   "metadata": {},
   "outputs": [],
   "source": []
  },
  {
   "cell_type": "markdown",
   "metadata": {},
   "source": [
    "==========================#######=================="
   ]
  },
  {
   "cell_type": "markdown",
   "metadata": {},
   "source": [
    "### NUMPY Practice"
   ]
  },
  {
   "cell_type": "code",
   "execution_count": 1,
   "metadata": {},
   "outputs": [],
   "source": [
    "import numpy as np"
   ]
  },
  {
   "cell_type": "code",
   "execution_count": 25,
   "metadata": {},
   "outputs": [],
   "source": [
    "x = np.array([[1, 3, 2, 4],[22,13,45,8]])"
   ]
  },
  {
   "cell_type": "code",
   "execution_count": 26,
   "metadata": {},
   "outputs": [
    {
     "data": {
      "text/plain": [
       "array([[ 1,  3,  2,  4],\n",
       "       [22, 13, 45,  8]])"
      ]
     },
     "execution_count": 26,
     "metadata": {},
     "output_type": "execute_result"
    }
   ],
   "source": [
    "x"
   ]
  },
  {
   "cell_type": "code",
   "execution_count": null,
   "metadata": {},
   "outputs": [],
   "source": []
  },
  {
   "cell_type": "code",
   "execution_count": 37,
   "metadata": {},
   "outputs": [],
   "source": [
    "x = np.array([\n",
    "    [5, 3, 1],\n",
    "    [8, 2, 7],\n",
    "    [9, 4, 12]\n",
    "])"
   ]
  },
  {
   "cell_type": "code",
   "execution_count": 38,
   "metadata": {},
   "outputs": [
    {
     "data": {
      "text/plain": [
       "array([[ 5,  3,  1],\n",
       "       [ 8,  2,  7],\n",
       "       [ 9,  4, 12]])"
      ]
     },
     "execution_count": 38,
     "metadata": {},
     "output_type": "execute_result"
    }
   ],
   "source": [
    "x"
   ]
  },
  {
   "cell_type": "code",
   "execution_count": 39,
   "metadata": {},
   "outputs": [
    {
     "data": {
      "text/plain": [
       "array([[0, 1, 0],\n",
       "       [1, 0, 1],\n",
       "       [2, 2, 2]], dtype=int64)"
      ]
     },
     "execution_count": 39,
     "metadata": {},
     "output_type": "execute_result"
    }
   ],
   "source": [
    "x.argsort(axis=0)"
   ]
  },
  {
   "cell_type": "code",
   "execution_count": 24,
   "metadata": {},
   "outputs": [],
   "source": [
    "y = x.argsort(axis=0)"
   ]
  },
  {
   "cell_type": "code",
   "execution_count": 25,
   "metadata": {},
   "outputs": [
    {
     "data": {
      "text/plain": [
       "array([[0, 1],\n",
       "       [1, 0]], dtype=int64)"
      ]
     },
     "execution_count": 25,
     "metadata": {},
     "output_type": "execute_result"
    }
   ],
   "source": [
    "y"
   ]
  },
  {
   "cell_type": "code",
   "execution_count": 19,
   "metadata": {},
   "outputs": [
    {
     "data": {
      "text/plain": [
       "array([[8, 2],\n",
       "       [1, 3]])"
      ]
     },
     "execution_count": 19,
     "metadata": {},
     "output_type": "execute_result"
    }
   ],
   "source": [
    "x[y[:,1]]"
   ]
  },
  {
   "cell_type": "markdown",
   "metadata": {},
   "source": [
    "============================= Hacker Rank Problem  =================================================="
   ]
  },
  {
   "cell_type": "code",
   "execution_count": 29,
   "metadata": {},
   "outputs": [
    {
     "data": {
      "text/plain": [
       "3"
      ]
     },
     "execution_count": 29,
     "metadata": {},
     "output_type": "execute_result"
    }
   ],
   "source": [
    "# Count no of pairs of a Socks \n",
    "\n",
    "def sockMerchant(n, ar):\n",
    "    # Write your code here\n",
    "    col_count = {}  #counts not of socks of each color\n",
    "    for ent in ar:\n",
    "        if ent in col_count:\n",
    "            col_count[ent]+=1\n",
    "        else:\n",
    "            col_count[ent]=1\n",
    "    #count no or pairs of each color\n",
    "    pairs_arr = []\n",
    "    for color in col_count:\n",
    "        pairs_arr.append(col_count[color]//2)              # operator to find quotient \n",
    "    return(sum(pairs_arr))\n",
    "\n",
    "sockMerchant(9,ar = [10, 20, 20, 10, 10, 30, 50, 10, 20])"
   ]
  },
  {
   "cell_type": "markdown",
   "metadata": {},
   "source": [
    "=============================="
   ]
  },
  {
   "cell_type": "code",
   "execution_count": null,
   "metadata": {},
   "outputs": [],
   "source": []
  },
  {
   "cell_type": "code",
   "execution_count": 27,
   "metadata": {},
   "outputs": [
    {
     "data": {
      "text/plain": [
       "5"
      ]
     },
     "execution_count": 27,
     "metadata": {},
     "output_type": "execute_result"
    }
   ],
   "source": [
    "#Finding divisible pairs in an Array\n",
    "\n",
    "def divisibleSumPairs(n, k, ar):\n",
    "    dive=0\n",
    "    for i in range(0, len(ar)):\n",
    "        for j in range(i+1, len(ar)):\n",
    "            if (ar[i]+ar[j])%k==0:\n",
    "                dive+=1\n",
    "    return(dive)\n",
    "\n",
    "\n",
    "divisibleSumPairs(6,3,[1, 3, 2, 6, 1, 2])"
   ]
  },
  {
   "cell_type": "markdown",
   "metadata": {},
   "source": [
    "====================================="
   ]
  },
  {
   "cell_type": "code",
   "execution_count": null,
   "metadata": {},
   "outputs": [],
   "source": []
  },
  {
   "cell_type": "code",
   "execution_count": null,
   "metadata": {},
   "outputs": [],
   "source": []
  },
  {
   "cell_type": "markdown",
   "metadata": {},
   "source": [
    "### API WORK"
   ]
  },
  {
   "cell_type": "code",
   "execution_count": 10,
   "metadata": {},
   "outputs": [
    {
     "data": {
      "text/plain": [
       "200"
      ]
     },
     "execution_count": 10,
     "metadata": {},
     "output_type": "execute_result"
    }
   ],
   "source": [
    "import requests\n",
    "import json\n",
    "\n",
    "# Make a GET request to get the latest position of the ISS from the OpenNotify API.\n",
    "response_data = requests.get(\"http://api.open-notify.org/iss-now.json\")\n",
    "\n",
    "response_data.status_code  #to get the status code of the response"
   ]
  },
  {
   "cell_type": "code",
   "execution_count": 11,
   "metadata": {},
   "outputs": [
    {
     "data": {
      "text/plain": [
       "b'{\"message\": \"success\", \"timestamp\": 1671425638, \"iss_position\": {\"latitude\": \"-45.0794\", \"longitude\": \"-148.6615\"}}'"
      ]
     },
     "execution_count": 11,
     "metadata": {},
     "output_type": "execute_result"
    }
   ],
   "source": [
    "response_data.content     #content of the response"
   ]
  },
  {
   "cell_type": "code",
   "execution_count": 12,
   "metadata": {},
   "outputs": [
    {
     "data": {
      "text/plain": [
       "{'message': 'success',\n",
       " 'timestamp': 1671425638,\n",
       " 'iss_position': {'latitude': '-45.0794', 'longitude': '-148.6615'}}"
      ]
     },
     "execution_count": 12,
     "metadata": {},
     "output_type": "execute_result"
    }
   ],
   "source": [
    "response_data.json()        #"
   ]
  },
  {
   "cell_type": "code",
   "execution_count": 8,
   "metadata": {},
   "outputs": [
    {
     "name": "stdout",
     "output_type": "stream",
     "text": [
      "b'<html>\\r\\n<head><title>404 Not Found</title></head>\\r\\n<body bgcolor=\"white\">\\r\\n<center><h1>404 Not Found</h1></center>\\r\\n<hr><center>nginx/1.10.3</center>\\r\\n</body>\\r\\n</html>\\r\\n'\n"
     ]
    }
   ],
   "source": [
    "\n",
    "# Set up the parameters we want to pass to the API.\n",
    "# This is the latitude and longitude of New York City.\n",
    "parameters = {\"lat\": 40.71, \"lon\": -74}\n",
    "\n",
    "response_data = requests.get(\"http://api.open-notify.org/iss-pass.json\", params=parameters)\n",
    "\n",
    "# Print the content of the response (the data the server returned)\n",
    "print(response_data.content)\n",
    "\n",
    "# This gets the same data as the command above\n",
    "response_data = requests.get(\"http://api.open-notify.org/iss-pass.json?lat=40.71&lon=-74\")"
   ]
  },
  {
   "cell_type": "code",
   "execution_count": 13,
   "metadata": {},
   "outputs": [
    {
     "name": "stdout",
     "output_type": "stream",
     "text": [
      "<Response [404]>\n"
     ]
    }
   ],
   "source": [
    "print(response_data)"
   ]
  },
  {
   "cell_type": "code",
   "execution_count": 12,
   "metadata": {},
   "outputs": [
    {
     "data": {
      "text/plain": [
       "404"
      ]
     },
     "execution_count": 12,
     "metadata": {},
     "output_type": "execute_result"
    }
   ],
   "source": [
    "response_data.status_code"
   ]
  },
  {
   "cell_type": "code",
   "execution_count": 12,
   "metadata": {},
   "outputs": [],
   "source": [
    "#Pulling data from github\n",
    "\n",
    "response = requests.get('https://api.github.com/users/cbragan/repos')"
   ]
  },
  {
   "cell_type": "code",
   "execution_count": 13,
   "metadata": {
    "scrolled": true
   },
   "outputs": [
    {
     "data": {
      "text/plain": [
       "[{'id': 217809628,\n",
       "  'node_id': 'MDEwOlJlcG9zaXRvcnkyMTc4MDk2Mjg=',\n",
       "  'name': 'data-science-1',\n",
       "  'full_name': 'cbragan/data-science-1',\n",
       "  'private': False,\n",
       "  'owner': {'login': 'cbragan',\n",
       "   'id': 57054991,\n",
       "   'node_id': 'MDQ6VXNlcjU3MDU0OTkx',\n",
       "   'avatar_url': 'https://avatars.githubusercontent.com/u/57054991?v=4',\n",
       "   'gravatar_id': '',\n",
       "   'url': 'https://api.github.com/users/cbragan',\n",
       "   'html_url': 'https://github.com/cbragan',\n",
       "   'followers_url': 'https://api.github.com/users/cbragan/followers',\n",
       "   'following_url': 'https://api.github.com/users/cbragan/following{/other_user}',\n",
       "   'gists_url': 'https://api.github.com/users/cbragan/gists{/gist_id}',\n",
       "   'starred_url': 'https://api.github.com/users/cbragan/starred{/owner}{/repo}',\n",
       "   'subscriptions_url': 'https://api.github.com/users/cbragan/subscriptions',\n",
       "   'organizations_url': 'https://api.github.com/users/cbragan/orgs',\n",
       "   'repos_url': 'https://api.github.com/users/cbragan/repos',\n",
       "   'events_url': 'https://api.github.com/users/cbragan/events{/privacy}',\n",
       "   'received_events_url': 'https://api.github.com/users/cbragan/received_events',\n",
       "   'type': 'User',\n",
       "   'site_admin': False},\n",
       "  'html_url': 'https://github.com/cbragan/data-science-1',\n",
       "  'description': 'DATA SCIENCE REPO - PROJECTS & TUTORIALS',\n",
       "  'fork': False,\n",
       "  'url': 'https://api.github.com/repos/cbragan/data-science-1',\n",
       "  'forks_url': 'https://api.github.com/repos/cbragan/data-science-1/forks',\n",
       "  'keys_url': 'https://api.github.com/repos/cbragan/data-science-1/keys{/key_id}',\n",
       "  'collaborators_url': 'https://api.github.com/repos/cbragan/data-science-1/collaborators{/collaborator}',\n",
       "  'teams_url': 'https://api.github.com/repos/cbragan/data-science-1/teams',\n",
       "  'hooks_url': 'https://api.github.com/repos/cbragan/data-science-1/hooks',\n",
       "  'issue_events_url': 'https://api.github.com/repos/cbragan/data-science-1/issues/events{/number}',\n",
       "  'events_url': 'https://api.github.com/repos/cbragan/data-science-1/events',\n",
       "  'assignees_url': 'https://api.github.com/repos/cbragan/data-science-1/assignees{/user}',\n",
       "  'branches_url': 'https://api.github.com/repos/cbragan/data-science-1/branches{/branch}',\n",
       "  'tags_url': 'https://api.github.com/repos/cbragan/data-science-1/tags',\n",
       "  'blobs_url': 'https://api.github.com/repos/cbragan/data-science-1/git/blobs{/sha}',\n",
       "  'git_tags_url': 'https://api.github.com/repos/cbragan/data-science-1/git/tags{/sha}',\n",
       "  'git_refs_url': 'https://api.github.com/repos/cbragan/data-science-1/git/refs{/sha}',\n",
       "  'trees_url': 'https://api.github.com/repos/cbragan/data-science-1/git/trees{/sha}',\n",
       "  'statuses_url': 'https://api.github.com/repos/cbragan/data-science-1/statuses/{sha}',\n",
       "  'languages_url': 'https://api.github.com/repos/cbragan/data-science-1/languages',\n",
       "  'stargazers_url': 'https://api.github.com/repos/cbragan/data-science-1/stargazers',\n",
       "  'contributors_url': 'https://api.github.com/repos/cbragan/data-science-1/contributors',\n",
       "  'subscribers_url': 'https://api.github.com/repos/cbragan/data-science-1/subscribers',\n",
       "  'subscription_url': 'https://api.github.com/repos/cbragan/data-science-1/subscription',\n",
       "  'commits_url': 'https://api.github.com/repos/cbragan/data-science-1/commits{/sha}',\n",
       "  'git_commits_url': 'https://api.github.com/repos/cbragan/data-science-1/git/commits{/sha}',\n",
       "  'comments_url': 'https://api.github.com/repos/cbragan/data-science-1/comments{/number}',\n",
       "  'issue_comment_url': 'https://api.github.com/repos/cbragan/data-science-1/issues/comments{/number}',\n",
       "  'contents_url': 'https://api.github.com/repos/cbragan/data-science-1/contents/{+path}',\n",
       "  'compare_url': 'https://api.github.com/repos/cbragan/data-science-1/compare/{base}...{head}',\n",
       "  'merges_url': 'https://api.github.com/repos/cbragan/data-science-1/merges',\n",
       "  'archive_url': 'https://api.github.com/repos/cbragan/data-science-1/{archive_format}{/ref}',\n",
       "  'downloads_url': 'https://api.github.com/repos/cbragan/data-science-1/downloads',\n",
       "  'issues_url': 'https://api.github.com/repos/cbragan/data-science-1/issues{/number}',\n",
       "  'pulls_url': 'https://api.github.com/repos/cbragan/data-science-1/pulls{/number}',\n",
       "  'milestones_url': 'https://api.github.com/repos/cbragan/data-science-1/milestones{/number}',\n",
       "  'notifications_url': 'https://api.github.com/repos/cbragan/data-science-1/notifications{?since,all,participating}',\n",
       "  'labels_url': 'https://api.github.com/repos/cbragan/data-science-1/labels{/name}',\n",
       "  'releases_url': 'https://api.github.com/repos/cbragan/data-science-1/releases{/id}',\n",
       "  'deployments_url': 'https://api.github.com/repos/cbragan/data-science-1/deployments',\n",
       "  'created_at': '2019-10-27T05:29:58Z',\n",
       "  'updated_at': '2020-12-26T16:18:24Z',\n",
       "  'pushed_at': '2020-12-26T16:18:21Z',\n",
       "  'git_url': 'git://github.com/cbragan/data-science-1.git',\n",
       "  'ssh_url': 'git@github.com:cbragan/data-science-1.git',\n",
       "  'clone_url': 'https://github.com/cbragan/data-science-1.git',\n",
       "  'svn_url': 'https://github.com/cbragan/data-science-1',\n",
       "  'homepage': '',\n",
       "  'size': 30989,\n",
       "  'stargazers_count': 0,\n",
       "  'watchers_count': 0,\n",
       "  'language': 'Jupyter Notebook',\n",
       "  'has_issues': True,\n",
       "  'has_projects': True,\n",
       "  'has_downloads': True,\n",
       "  'has_wiki': True,\n",
       "  'has_pages': False,\n",
       "  'has_discussions': False,\n",
       "  'forks_count': 0,\n",
       "  'mirror_url': None,\n",
       "  'archived': False,\n",
       "  'disabled': False,\n",
       "  'open_issues_count': 0,\n",
       "  'license': None,\n",
       "  'allow_forking': True,\n",
       "  'is_template': False,\n",
       "  'web_commit_signoff_required': False,\n",
       "  'topics': [],\n",
       "  'visibility': 'public',\n",
       "  'forks': 0,\n",
       "  'open_issues': 0,\n",
       "  'watchers': 0,\n",
       "  'default_branch': 'master'}]"
      ]
     },
     "execution_count": 13,
     "metadata": {},
     "output_type": "execute_result"
    }
   ],
   "source": [
    "response.json()"
   ]
  },
  {
   "cell_type": "code",
   "execution_count": null,
   "metadata": {},
   "outputs": [],
   "source": []
  },
  {
   "cell_type": "code",
   "execution_count": null,
   "metadata": {},
   "outputs": [],
   "source": []
  },
  {
   "cell_type": "code",
   "execution_count": 25,
   "metadata": {},
   "outputs": [
    {
     "data": {
      "text/plain": [
       "3"
      ]
     },
     "execution_count": 25,
     "metadata": {},
     "output_type": "execute_result"
    }
   ],
   "source": []
  },
  {
   "cell_type": "code",
   "execution_count": null,
   "metadata": {},
   "outputs": [],
   "source": []
  }
 ],
 "metadata": {
  "kernelspec": {
   "display_name": "Python 3",
   "language": "python",
   "name": "python3"
  },
  "language_info": {
   "codemirror_mode": {
    "name": "ipython",
    "version": 3
   },
   "file_extension": ".py",
   "mimetype": "text/x-python",
   "name": "python",
   "nbconvert_exporter": "python",
   "pygments_lexer": "ipython3",
   "version": "3.8.5"
  }
 },
 "nbformat": 4,
 "nbformat_minor": 4
}
