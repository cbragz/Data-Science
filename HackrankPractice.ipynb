{
 "cells": [
  {
   "cell_type": "code",
   "execution_count": null,
   "metadata": {},
   "outputs": [],
   "source": []
  },
  {
   "cell_type": "markdown",
   "metadata": {},
   "source": [
    "=================================##########===============================================\n"
   ]
  },
  {
   "cell_type": "markdown",
   "metadata": {},
   "source": [
    "#### TIme conversion 12 to 24. "
   ]
  },
  {
   "cell_type": "code",
   "execution_count": 2,
   "metadata": {},
   "outputs": [],
   "source": [
    "def timeConversions(s):\n",
    "    if s.split(':')[-1][-2]=='A':\n",
    "        if s.split(':')[0]=='12':\n",
    "            return('00'+':'+ s.split(':')[1]+ ':' +s.split(':')[2][0:2])\n",
    "        else:\n",
    "            return (s[0:len(s)-2])\n",
    "    else:\n",
    "        if s.split(':')[0]=='12':\n",
    "            return(s[0:len(s)-2])\n",
    "        else:\n",
    "            hh = 12 + int(s.split(':')[0])\n",
    "            return(str(hh)+':'+s.split(':')[1]+':'+s.split(':')[2][0:2])\n",
    "\n"
   ]
  },
  {
   "cell_type": "code",
   "execution_count": null,
   "metadata": {},
   "outputs": [],
   "source": [
    "#Alternate approach:\n",
    "\n",
    "time = input().strip()\n",
    "h, m, s = map(int, time[:-2].split(':'))\n",
    "p = time[-2:]\n",
    "h = h % 12 + (p.upper() == 'PM') * 12\n",
    "print(('%02d:%02d:%02d') % (h, m, s))\n"
   ]
  },
  {
   "cell_type": "markdown",
   "metadata": {},
   "source": [
    "================================================================================"
   ]
  },
  {
   "cell_type": "code",
   "execution_count": 2,
   "metadata": {},
   "outputs": [],
   "source": [
    "aa = '1.24kg'"
   ]
  },
  {
   "cell_type": "code",
   "execution_count": 3,
   "metadata": {},
   "outputs": [
    {
     "data": {
      "text/plain": [
       "'1.24kg'"
      ]
     },
     "execution_count": 3,
     "metadata": {},
     "output_type": "execute_result"
    }
   ],
   "source": [
    "aa"
   ]
  },
  {
   "cell_type": "code",
   "execution_count": 4,
   "metadata": {},
   "outputs": [
    {
     "data": {
      "text/plain": [
       "1.24"
      ]
     },
     "execution_count": 4,
     "metadata": {},
     "output_type": "execute_result"
    }
   ],
   "source": [
    "float(aa.split('k')[0])"
   ]
  },
  {
   "cell_type": "code",
   "execution_count": 5,
   "metadata": {},
   "outputs": [],
   "source": [
    "x = float(aa.split('k')[0])"
   ]
  },
  {
   "cell_type": "code",
   "execution_count": 14,
   "metadata": {},
   "outputs": [
    {
     "data": {
      "text/plain": [
       "float"
      ]
     },
     "execution_count": 14,
     "metadata": {},
     "output_type": "execute_result"
    }
   ],
   "source": [
    "type(x)"
   ]
  },
  {
   "cell_type": "code",
   "execution_count": 7,
   "metadata": {},
   "outputs": [
    {
     "name": "stdout",
     "output_type": "stream",
     "text": [
      "0\n",
      "1\n",
      "2\n",
      "3\n",
      "4\n"
     ]
    }
   ],
   "source": [
    "for i in range(0,5):\n",
    "    print (i)"
   ]
  },
  {
   "cell_type": "markdown",
   "metadata": {},
   "source": [
    "===============================########==========================================="
   ]
  },
  {
   "cell_type": "markdown",
   "metadata": {},
   "source": [
    "### Factorial of a number\n",
    "\n",
    "<b>Goal</b>:\n",
    "to calculate the factorial of a number that a user asked for.<br>\n",
    "\n",
    "<b>Alternate way to frame the goal</b>:<br>\n",
    "a numbers factorial is the number * the num-1 * (the num-2) * (num-3) ... (num -(num-1))<br>\n",
    "<br>\n",
    "so 5! = 5 x  4 x 3 x 2 x 1<br> <br>\n",
    "<b>Given/what you have</b>:\n",
    "\t<br>if-else stmnt, for looop,\n",
    "\t <br>while loop, functions, <br>lists, dictionaries\n",
    "\n",
    "<b>Steps / sudo code:</b> <br>\n",
    "get the number from the user<br>\n",
    "check if number is 0 , output 1.<br>\n",
    "\tif less than 0, output 'fact cannot be caluculated'<br>\n",
    "\tif num is > 0 <br>\n",
    "\t\t&ensp; get the num-1\tsay X1 <br>\n",
    "\t\t&ensp;then get num - (num-1)  say X2 <br>\n",
    "        &ensp;set factorial to be num <br>\n",
    "\t&ensp; &ensp;for i in between X2 to num <br>\n",
    "\t&ensp;&ensp; factorial = factorial x i <br>"
   ]
  },
  {
   "cell_type": "code",
   "execution_count": 20,
   "metadata": {},
   "outputs": [
    {
     "data": {
      "text/plain": [
       "5040"
      ]
     },
     "execution_count": 20,
     "metadata": {},
     "output_type": "execute_result"
    }
   ],
   "source": [
    "def num_factorial(num):\n",
    "    if num < 0:\n",
    "        return('no factorial of neg no')\n",
    "    if num == 0:\n",
    "        return (1)\n",
    "    else:\n",
    "        fact = num\n",
    "        end_multip = num - (num-1)\n",
    "        for i in range (end_multip,num):\n",
    "            fact = fact * i\n",
    "        return(fact)\n",
    "\n",
    "num_factorial(7)"
   ]
  },
  {
   "cell_type": "markdown",
   "metadata": {},
   "source": [
    " ======================##########=============================="
   ]
  },
  {
   "cell_type": "markdown",
   "metadata": {},
   "source": [
    "### ZIGZAG Test"
   ]
  },
  {
   "cell_type": "code",
   "execution_count": 3,
   "metadata": {},
   "outputs": [
    {
     "name": "stdout",
     "output_type": "stream",
     "text": [
      "1\n",
      "2\n",
      "3\n",
      "4\n",
      "5\n",
      "6\n",
      "7\n",
      "8\n",
      "9\n",
      "10\n",
      "11\n"
     ]
    }
   ],
   "source": [
    "x=0\n",
    "while x<=10:\n",
    "    x+=1\n",
    "    print(x)"
   ]
  },
  {
   "cell_type": "code",
   "execution_count": 6,
   "metadata": {},
   "outputs": [
    {
     "data": {
      "text/plain": [
       "5"
      ]
     },
     "execution_count": 6,
     "metadata": {},
     "output_type": "execute_result"
    }
   ],
   "source": [
    "len(ar)"
   ]
  },
  {
   "cell_type": "code",
   "execution_count": 24,
   "metadata": {},
   "outputs": [
    {
     "name": "stdout",
     "output_type": "stream",
     "text": [
      "2 3 4\n",
      "3 4 5\n",
      "4 5 5\n"
     ]
    }
   ],
   "source": [
    "ar = [2,3,4,5,5]\n",
    "\n",
    "i=0\n",
    "while i <= len(ar)-3:\n",
    "    print(ar[i],ar[i+1],ar[i+2])\n",
    "    i+=1\n",
    "    "
   ]
  },
  {
   "cell_type": "code",
   "execution_count": 30,
   "metadata": {},
   "outputs": [
    {
     "data": {
      "text/plain": [
       "[1, 1, 0]"
      ]
     },
     "execution_count": 30,
     "metadata": {},
     "output_type": "execute_result"
    }
   ],
   "source": [
    "# A ZIGZAG test. a<b>c or a>b<c\n",
    "\n",
    "def solutions(numbers):\n",
    "    result_arr = []\n",
    "    tracker = 0\n",
    "    while tracker <= len(numbers)-3:\n",
    "        if ((numbers[tracker]<numbers[tracker+1]>numbers[tracker+2]) == True) | ((numbers[tracker]>numbers[tracker+1]<numbers[tracker+2])==True):\n",
    "            result_arr.append(1)\n",
    "        else:\n",
    "            result_arr.append(0)\n",
    "        tracker+=1\n",
    "    return(result_arr)\n",
    "        \n",
    "solutions([1,2,1,3,4])"
   ]
  },
  {
   "cell_type": "code",
   "execution_count": null,
   "metadata": {},
   "outputs": [],
   "source": []
  },
  {
   "cell_type": "code",
   "execution_count": null,
   "metadata": {},
   "outputs": [],
   "source": []
  },
  {
   "cell_type": "markdown",
   "metadata": {},
   "source": [
    "=================############==================="
   ]
  },
  {
   "cell_type": "markdown",
   "metadata": {},
   "source": [
    "### Coursera (Text editor)"
   ]
  },
  {
   "cell_type": "code",
   "execution_count": 41,
   "metadata": {},
   "outputs": [
    {
     "data": {
      "text/plain": [
       "['Hey',\n",
       " 'Hey you',\n",
       " \"Hey you, don't\",\n",
       " \"Hey you, don't \",\n",
       " \"Hey you, don't let me down\"]"
      ]
     },
     "execution_count": 41,
     "metadata": {},
     "output_type": "execute_result"
    }
   ],
   "source": [
    "def sol_fun(queries):\n",
    "    fin_arr = []\n",
    "    act = ''\n",
    "    val = ''\n",
    "    quer_len_tr = 0\n",
    "    while quer_len_tr<len(queries):\n",
    "        for i in queries:\n",
    "            act = i[0]\n",
    "            val = i[1]\n",
    "            if act == 'APPEND':\n",
    "                if quer_len_tr == 0:\n",
    "                    fin_arr.append(val)\n",
    "                else:\n",
    "                    fin_arr.append(fin_arr[quer_len_tr-1]+val)\n",
    "            quer_len_tr+=1\n",
    "    return(fin_arr)\n",
    "        \n",
    "        \n",
    "sol_fun([[\"APPEND\",\"Hey\"], \n",
    " [\"APPEND\",\" you\"], \n",
    " [\"APPEND\",\", don't\"], \n",
    " [\"APPEND\",\" \"], \n",
    " [\"APPEND\",\"let me down\"]])"
   ]
  },
  {
   "cell_type": "markdown",
   "metadata": {},
   "source": [
    "=========== =========######### ==============================="
   ]
  },
  {
   "cell_type": "markdown",
   "metadata": {},
   "source": [
    "#### API calls example"
   ]
  },
  {
   "cell_type": "code",
   "execution_count": 70,
   "metadata": {},
   "outputs": [
    {
     "name": "stdout",
     "output_type": "stream",
     "text": [
      "Active cases in South Andaman: 19\n"
     ]
    }
   ],
   "source": [
    "import requests\n",
    "import json\n",
    "\n",
    "#Connect to API\n",
    "response_API = requests.get('https://api.covid19india.org/state_district_wise.json')\n",
    "\n",
    "#print(response_API.status_code)\n",
    "\n",
    "#Pull data from API\n",
    "data = response_API.text        #Can print(data) to check that its JSON format\n",
    "\n",
    "#parse the data as json\n",
    "parse_json = json.loads(data)\n",
    "\n",
    "active_case = parse_json['Andaman and Nicobar Islands']['districtData']['South Andaman']['active']\n",
    "\n",
    "print(\"Active cases in South Andaman:\", active_case)"
   ]
  },
  {
   "cell_type": "markdown",
   "metadata": {},
   "source": [
    "===================########=================="
   ]
  },
  {
   "cell_type": "code",
   "execution_count": null,
   "metadata": {},
   "outputs": [],
   "source": []
  },
  {
   "cell_type": "code",
   "execution_count": 2,
   "metadata": {},
   "outputs": [],
   "source": [
    "x = [2,3,4,5]"
   ]
  },
  {
   "cell_type": "code",
   "execution_count": 7,
   "metadata": {},
   "outputs": [],
   "source": [
    "x.sort(reverse=True)"
   ]
  },
  {
   "cell_type": "code",
   "execution_count": 8,
   "metadata": {},
   "outputs": [
    {
     "data": {
      "text/plain": [
       "[5, 4, 3, 2]"
      ]
     },
     "execution_count": 8,
     "metadata": {},
     "output_type": "execute_result"
    }
   ],
   "source": [
    "x"
   ]
  },
  {
   "cell_type": "code",
   "execution_count": 40,
   "metadata": {},
   "outputs": [
    {
     "data": {
      "text/plain": [
       "[5, 4, 3]"
      ]
     },
     "execution_count": 40,
     "metadata": {},
     "output_type": "execute_result"
    }
   ],
   "source": [
    "x[0:3]   # remember List slicing is not inclusive of last index"
   ]
  },
  {
   "cell_type": "code",
   "execution_count": 10,
   "metadata": {},
   "outputs": [
    {
     "data": {
      "text/plain": [
       "12"
      ]
     },
     "execution_count": 10,
     "metadata": {},
     "output_type": "execute_result"
    }
   ],
   "source": [
    "sum(x[0:(len(x)-1)])"
   ]
  },
  {
   "cell_type": "code",
   "execution_count": 2,
   "metadata": {},
   "outputs": [
    {
     "name": "stdout",
     "output_type": "stream",
     "text": [
      "2\n",
      "3\n",
      "4\n",
      "5\n"
     ]
    }
   ],
   "source": [
    "for m in x:\n",
    "    print(m)"
   ]
  },
  {
   "cell_type": "markdown",
   "metadata": {},
   "source": [
    "==========================#######=================="
   ]
  },
  {
   "cell_type": "markdown",
   "metadata": {},
   "source": [
    "### Hacker Rank MIN MAX Problem\n",
    "\n",
    "\n",
    "<b>GOAL</b>: Given 5 Positive integers find the min and max possible values by summing exactly 4 of the 5 integers.\n",
    "\n",
    "Alternate way of phrasing it: \n",
    " - Find the sum of 4 smalles integers from a bunch  of integers (say n integers)\n",
    " - Find the sum of 4 largest integeers from a bunch of integers\n",
    "\n",
    "<b>Given</b>: \n",
    "5 integers.\n",
    "Integers can be 0 or equal to each other\n",
    "\n",
    "<b>STEPS</b>:\n",
    "\n",
    "Goal 1 --  Find sum of 4 smallest integers <br>\n",
    "        - create a empty array min_elements (or a sorted_arr, and then can do 1st 4 and for max last 4)<br>\n",
    "        - Store smallest 4 nos in this array <br>\n",
    "                     \t- But HOW??<br>\n",
    "\t- Start small (i.e with 3 elments), then scale it\n",
    "        \t\n",
    "<b>Instead of trying to create a sorted algorithm use LIST.SORT() method</b>         \n",
    "   "
   ]
  },
  {
   "cell_type": "code",
   "execution_count": 39,
   "metadata": {},
   "outputs": [
    {
     "name": "stdout",
     "output_type": "stream",
     "text": [
      "16 24\n"
     ]
    }
   ],
   "source": [
    "def min_max(arr):\n",
    "    sorted_elements = arr.sort()\n",
    "    min_sum = sum(arr[0:(len(arr)-1)])\n",
    "    max_sum = sum(arr[1:len(arr)])\n",
    "    return(print(min_sum,max_sum))\n",
    "\n",
    "min_max([1,3,5,7,9])"
   ]
  },
  {
   "cell_type": "markdown",
   "metadata": {},
   "source": [
    "#### Some Alternate options:\n",
    "<br>\n",
    "<i>\n",
    "x = sum(arr)\n",
    "\n",
    "minValue = x - max(arr)\n",
    "maxValue = x - min(arr)\n",
    "\n",
    "print(minValue, maxValue) </i>\n",
    "\n",
    "=----------------------==\n",
    "\n",
    "or check:\n",
    "\n",
    "https://www.youtube.com/watch?v=CNL1WzrtxGY&list=PLSIpQf0NbcCltzNFrOJkQ4J4AAjW3TSmA\n"
   ]
  },
  {
   "cell_type": "markdown",
   "metadata": {},
   "source": [
    "==========================#######=================="
   ]
  },
  {
   "cell_type": "code",
   "execution_count": null,
   "metadata": {},
   "outputs": [],
   "source": []
  },
  {
   "cell_type": "code",
   "execution_count": null,
   "metadata": {},
   "outputs": [],
   "source": []
  },
  {
   "cell_type": "markdown",
   "metadata": {},
   "source": [
    "#### CS dojo problem\n",
    "\n",
    "https://www.youtube.com/watch?v=GBuHSRDGZBY\n",
    "\n",
    "<b>GOAL:</b>\n",
    "Two Arrays given and a Target Number given <br>\n",
    "Find a pair of numbers, one number from each array, whose sum is closest to the target\n",
    "\n",
    "So solution function should give the pair/pairs whose sum is the closest and how close (so whats the difference to target)\n",
    "\n",
    "<b> Given: </b>\n",
    "Array 1 say [n1, n2 , n3...]  and Array 2 say [n11, n22, n33, n44, n55...] <br>\n",
    "And a target number say T\n",
    "\n",
    "\n",
    "<b>Other things to think about:\n",
    "- is there a simpler/intermediate problem you'd solve that brings you closer to the main solution    \n",
    "    \n",
    "- Any alternate but similar problem you've already solved. </b>\n",
    "\n",
    "\n",
    "    \n",
    "<b>Steps:</b>\n",
    "- find the sum of all possible pairs\n",
    "- find difference between the pair and the target, store this as distance.\n",
    "- if for next pair, new distance calculation is less than current distance calculation then update distance value and update the final array that stores the pair\n",
    "- Else if the new distance calc is equal to current distance, then only store the resuling pair to the final array.\n",
    "\n",
    "\n",
    "<b>NOTE </b><br>\n",
    "What we did here is a brute force solution, which is fine. But can we improve it. <br>\n",
    "To make the solution more efficient can we sort the input arrays in ascending order to make things faster <br>\n",
    "Efficient solutions will matter when it checks for time and space complexity comes into question\n",
    "\n"
   ]
  },
  {
   "cell_type": "code",
   "execution_count": 40,
   "metadata": {},
   "outputs": [
    {
     "data": {
      "text/plain": [
       "[(4, 8), (7, 5), (7, 7), (10, 4)]"
      ]
     },
     "execution_count": 40,
     "metadata": {},
     "output_type": "execute_result"
    }
   ],
   "source": [
    "\n",
    "\n",
    "def reach_target(a1,a2,t):\n",
    "    final_pairs = []\n",
    "    distance = sum(a1)+sum(a2)\n",
    "    for i in a1:\n",
    "        for j in a2:\n",
    "            #print(i,j,t,distance)\n",
    "            if abs(i+j-t) < distance:\n",
    "                distance = abs(i+j-t)\n",
    "                final_pairs = [(i,j)]\n",
    "            elif abs(i+j-t) == distance:\n",
    "                final_pairs.append((i,j))\n",
    "    return(final_pairs)\n",
    "\n",
    "\n",
    "reach_target( [-1,3,8,2,9,5] , [4,1,2,10,5,20], 24)\n",
    "\n",
    "reach_target([4,7,1,10],[4,5,8,7],13)"
   ]
  },
  {
   "cell_type": "code",
   "execution_count": null,
   "metadata": {},
   "outputs": [],
   "source": []
  },
  {
   "cell_type": "markdown",
   "metadata": {},
   "source": [
    "==========================#######=================="
   ]
  },
  {
   "cell_type": "code",
   "execution_count": 5,
   "metadata": {},
   "outputs": [
    {
     "data": {
      "text/plain": [
       "0"
      ]
     },
     "execution_count": 5,
     "metadata": {},
     "output_type": "execute_result"
    }
   ],
   "source": [
    "4%2"
   ]
  },
  {
   "cell_type": "code",
   "execution_count": 18,
   "metadata": {},
   "outputs": [
    {
     "name": "stdout",
     "output_type": "stream",
     "text": [
      "a\n"
     ]
    }
   ],
   "source": [
    "if 2>21 or 12>4:\n",
    "    print('a')"
   ]
  },
  {
   "cell_type": "markdown",
   "metadata": {},
   "source": []
  },
  {
   "cell_type": "markdown",
   "metadata": {},
   "source": [
    "==========================#######=================="
   ]
  },
  {
   "cell_type": "code",
   "execution_count": 6,
   "metadata": {},
   "outputs": [],
   "source": [
    "\n",
    "# https://www.hackerrank.com/challenges/between-two-sets/forum\n",
    "\n",
    "#WRONG  -- NEED TO REWORK THIS\n",
    "\n",
    "\n",
    "def bet_2_arr(arr1,arr2,len1,len2):\n",
    "    reqd_int=[]\n",
    "    #get multiples of smallest val in arr2\n",
    "    min_arr2 = min(arr2)\n",
    "    factors_arr2=[]\n",
    "    multiples_arr1=[]\n",
    "    for i in range(1,min_arr2+1):\n",
    "        if min_arr2%i==0:\n",
    "            factors_arr2.append(i)\n",
    "    for nos in range(max(arr1),min(arr2)+1):\n",
    "        if nos%max(arr1)==0:\n",
    "            multiples_arr1.append(nos)\n",
    "    reqd_int = [val for val in factors_arr2 if val in multiples_arr1]\n",
    "    #return(len(reqd_int))\n",
    "    return(factors_arr2,multiples_arr1)"
   ]
  },
  {
   "cell_type": "code",
   "execution_count": 7,
   "metadata": {},
   "outputs": [
    {
     "data": {
      "text/plain": [
       "([1, 2, 3, 4, 6, 8, 12, 24], [4, 8, 12, 16, 20, 24])"
      ]
     },
     "execution_count": 7,
     "metadata": {},
     "output_type": "execute_result"
    }
   ],
   "source": [
    "bet_2_arr([3,4],[24,48,96],2,3)"
   ]
  },
  {
   "cell_type": "code",
   "execution_count": null,
   "metadata": {},
   "outputs": [],
   "source": []
  },
  {
   "cell_type": "markdown",
   "metadata": {},
   "source": [
    "==========================#######=================="
   ]
  },
  {
   "cell_type": "code",
   "execution_count": null,
   "metadata": {},
   "outputs": [],
   "source": []
  },
  {
   "cell_type": "code",
   "execution_count": 15,
   "metadata": {},
   "outputs": [
    {
     "data": {
      "text/plain": [
       "(1, 25, 4, 2)"
      ]
     },
     "execution_count": 15,
     "metadata": {},
     "output_type": "execute_result"
    }
   ],
   "source": [
    "\n",
    "\n",
    "#Breaking Records question\n",
    "\n",
    "def breaking_records(scores):\n",
    "    min_score = scores[0]\n",
    "    max_score = scores[0]\n",
    "    min_broken_count = 0\n",
    "    max_broken_count = 0\n",
    "    game_count = len(scores)\n",
    "    for game_no in range(1,game_count):\n",
    "        if scores[game_no] < min_score:\n",
    "            min_broken_count+=1\n",
    "            min_score=scores[game_no]\n",
    "        elif scores[game_no]>max_score:\n",
    "            max_broken_count+=1\n",
    "            max_score=scores[game_no]\n",
    "    return(min_score, max_score,min_broken_count,max_broken_count)     \n",
    "\n",
    "\n",
    "        \n",
    "        \n",
    "breaking_records([10,5,20,20,4,5,2,25,1])"
   ]
  },
  {
   "cell_type": "code",
   "execution_count": null,
   "metadata": {},
   "outputs": [],
   "source": []
  },
  {
   "cell_type": "code",
   "execution_count": 48,
   "metadata": {},
   "outputs": [],
   "source": [
    "a = [12,3,24]\n",
    "a.reverse()"
   ]
  },
  {
   "cell_type": "code",
   "execution_count": 63,
   "metadata": {},
   "outputs": [],
   "source": [
    "c =[]"
   ]
  },
  {
   "cell_type": "code",
   "execution_count": 64,
   "metadata": {},
   "outputs": [],
   "source": [
    "c.append(1)"
   ]
  },
  {
   "cell_type": "code",
   "execution_count": 76,
   "metadata": {},
   "outputs": [],
   "source": [
    "c.insert(1,55)"
   ]
  },
  {
   "cell_type": "code",
   "execution_count": 77,
   "metadata": {},
   "outputs": [
    {
     "data": {
      "text/plain": [
       "[22, 55, 33, 19]"
      ]
     },
     "execution_count": 77,
     "metadata": {},
     "output_type": "execute_result"
    }
   ],
   "source": [
    "c"
   ]
  },
  {
   "cell_type": "code",
   "execution_count": 69,
   "metadata": {},
   "outputs": [],
   "source": [
    "c[0]=22"
   ]
  },
  {
   "cell_type": "code",
   "execution_count": 70,
   "metadata": {},
   "outputs": [
    {
     "data": {
      "text/plain": [
       "[22]"
      ]
     },
     "execution_count": 70,
     "metadata": {},
     "output_type": "execute_result"
    }
   ],
   "source": [
    "c"
   ]
  },
  {
   "cell_type": "markdown",
   "metadata": {},
   "source": [
    "==========================#######=================="
   ]
  },
  {
   "cell_type": "code",
   "execution_count": 20,
   "metadata": {},
   "outputs": [
    {
     "data": {
      "text/plain": [
       "5"
      ]
     },
     "execution_count": 20,
     "metadata": {},
     "output_type": "execute_result"
    }
   ],
   "source": [
    "\n",
    "#Bill Division\n",
    "'''\n",
    "bill - list of item prices \n",
    "k - index of didn't eat item\n",
    "b - amount charged\n",
    "'''\n",
    "\n",
    "\n",
    "def bonAppetit(bill, k, b):\n",
    "    total_bill = sum(bill)  #full bill\n",
    "    amt_to_collect = int((sum(bill) - bill[k])/2)\n",
    "    if b==amt_to_collect:\n",
    "        return(print('Bon Appetit'))\n",
    "    else:\n",
    "        return(b - amt_to_collect)\n",
    "\n",
    "bonAppetit([3,10,2,9],1,12)"
   ]
  },
  {
   "cell_type": "code",
   "execution_count": null,
   "metadata": {},
   "outputs": [],
   "source": []
  },
  {
   "cell_type": "markdown",
   "metadata": {},
   "source": [
    "==========================#######=================="
   ]
  },
  {
   "cell_type": "markdown",
   "metadata": {},
   "source": [
    "\n",
    "### We have a list of commands. Given a certain input from user based on the set of commands Output corresponding result for that command\n",
    "\n",
    "    insert i e: Insert integer e at position i\n",
    "    print: Print the list.\n",
    "    remove e: Delete the first occurrence of integer e\n",
    "    append e: Insert integer e at the end of the list.\n",
    "    sort: Sort the list.\n",
    "    pop: Pop the last element from the list.\n",
    "    reverse: Reverse the list.\n",
    "\n",
    "\n",
    "__Input:__<br>\n",
    "12         -- N i.e. Length of commands <br>\n",
    "insert 0 5 <br>\n",
    "insert 1 10<br>\n",
    "insert 0 6<br>\n",
    "print<br>\n",
    "remove 6<br>\n",
    "append 9<br>\n",
    "append 1<br>\n",
    "sort<br>\n",
    "print<br>\n",
    "pop<br>\n",
    "reverse<br>\n",
    "print<br>\n",
    "\n",
    "__Output:__ <br>\n",
    "[6, 5, 10] <br>\n",
    "[1, 5, 9, 10] <br>\n",
    "[9, 5, 1]"
   ]
  },
  {
   "cell_type": "code",
   "execution_count": 78,
   "metadata": {},
   "outputs": [
    {
     "name": "stdout",
     "output_type": "stream",
     "text": [
      "2\n",
      "22\n",
      "x\n"
     ]
    }
   ],
   "source": [
    "if __name__ == '__main__':\n",
    "    N = int(input())\n",
    "    li=[]\n",
    "    for entry in range(0,N):\n",
    "        a = input().split()                 #basically getting input (a list) each time and splitting it. then reading each element\n",
    "        if a[0]=='insert':\n",
    "            li.insert(int(a[1]),int(a[2]))\n",
    "        elif a[0] == 'print':\n",
    "            print(li)\n",
    "        elif a[0] == 'remove':\n",
    "            li.remove(int(a[1]))\n",
    "        elif a[0] == 'append':\n",
    "            li.append(int(a[1]))\n",
    "        elif a[0] == 'sort':\n",
    "            li.sort()\n",
    "        elif a[0] == 'pop':\n",
    "            li.pop()\n",
    "        elif a[0] == 'reverse':\n",
    "            li.reverse()"
   ]
  },
  {
   "cell_type": "code",
   "execution_count": null,
   "metadata": {},
   "outputs": [],
   "source": []
  },
  {
   "cell_type": "code",
   "execution_count": null,
   "metadata": {},
   "outputs": [],
   "source": []
  },
  {
   "cell_type": "markdown",
   "metadata": {},
   "source": [
    "==========================#######=================="
   ]
  },
  {
   "cell_type": "code",
   "execution_count": 2,
   "metadata": {},
   "outputs": [],
   "source": [
    "p = [11,13,19,2,4,5,6,7]"
   ]
  },
  {
   "cell_type": "code",
   "execution_count": 3,
   "metadata": {},
   "outputs": [
    {
     "data": {
      "text/plain": [
       "24"
      ]
     },
     "execution_count": 3,
     "metadata": {},
     "output_type": "execute_result"
    }
   ],
   "source": [
    "sum(p[0:2])"
   ]
  },
  {
   "cell_type": "code",
   "execution_count": 76,
   "metadata": {},
   "outputs": [
    {
     "data": {
      "text/plain": [
       "67"
      ]
     },
     "execution_count": 76,
     "metadata": {},
     "output_type": "execute_result"
    }
   ],
   "source": [
    "sum(p)"
   ]
  },
  {
   "cell_type": "code",
   "execution_count": 79,
   "metadata": {},
   "outputs": [
    {
     "data": {
      "text/plain": [
       "11"
      ]
     },
     "execution_count": 79,
     "metadata": {},
     "output_type": "execute_result"
    }
   ],
   "source": [
    "sum(p[0:3])"
   ]
  },
  {
   "cell_type": "code",
   "execution_count": null,
   "metadata": {},
   "outputs": [],
   "source": []
  },
  {
   "cell_type": "code",
   "execution_count": 72,
   "metadata": {},
   "outputs": [],
   "source": [
    "def array_combo_puller(input_arr,d=11,m=3):\n",
    "    res_arr=[]\n",
    "    input_arr.sort()       #2,4,5,6,7,,11,13,19\n",
    "    for x in range(0,len(input_arr)):\n",
    "        if input_arr[x]>d:\n",
    "            break\n",
    "        elif input_arr[x]==d:\n",
    "            res_arr.append([input_arr[x]])\n",
    "        elif input_arr[x]<d:\n",
    "            tr=[input_arr[x]]\n",
    "            while x<len(input_arr)-1:\n",
    "                x+=1\n",
    "                tr.append(input_arr[x])\n",
    "                if sum(tr)==d:\n",
    "                    res_arr.append(tr)            \n",
    "    return(res_arr)    "
   ]
  },
  {
   "cell_type": "code",
   "execution_count": 74,
   "metadata": {},
   "outputs": [
    {
     "data": {
      "text/plain": [
       "[[2, 4, 5, 6, 7, 11, 13, 19], [5, 6, 7, 11, 13, 19], [11]]"
      ]
     },
     "execution_count": 74,
     "metadata": {},
     "output_type": "execute_result"
    }
   ],
   "source": [
    "array_combo_puller([11,2,4,5,7,6,5,0])"
   ]
  },
  {
   "cell_type": "code",
   "execution_count": null,
   "metadata": {},
   "outputs": [],
   "source": []
  },
  {
   "cell_type": "code",
   "execution_count": 1,
   "metadata": {},
   "outputs": [
    {
     "data": {
      "text/plain": [
       "[11, 2, 4, 5, 7, 6, 5, 0, 9, 1]"
      ]
     },
     "execution_count": 1,
     "metadata": {},
     "output_type": "execute_result"
    }
   ],
   "source": [
    "[11,2,4,5,7,6,5,0,9,1]"
   ]
  },
  {
   "cell_type": "code",
   "execution_count": null,
   "metadata": {},
   "outputs": [],
   "source": []
  },
  {
   "cell_type": "code",
   "execution_count": 4,
   "metadata": {},
   "outputs": [],
   "source": [
    "def combo_puller(input_arr,d=11,m=3):\n",
    "    res_count=0\n",
    "    for i in range(0, len(input_arr)):\n",
    "        if sum(input_arr[i:i+m])==d:\n",
    "            res_count+=1\n",
    "    return(res_count)\n",
    "\n",
    "            "
   ]
  },
  {
   "cell_type": "code",
   "execution_count": 6,
   "metadata": {},
   "outputs": [
    {
     "name": "stdout",
     "output_type": "stream",
     "text": [
      "None\n"
     ]
    }
   ],
   "source": [
    "print(combo_puller([11,2,4,5,7,6,5,0,9,1]))"
   ]
  },
  {
   "cell_type": "code",
   "execution_count": null,
   "metadata": {},
   "outputs": [],
   "source": []
  }
 ],
 "metadata": {
  "kernelspec": {
   "display_name": "Python 3",
   "language": "python",
   "name": "python3"
  },
  "language_info": {
   "codemirror_mode": {
    "name": "ipython",
    "version": 3
   },
   "file_extension": ".py",
   "mimetype": "text/x-python",
   "name": "python",
   "nbconvert_exporter": "python",
   "pygments_lexer": "ipython3",
   "version": "3.8.5"
  }
 },
 "nbformat": 4,
 "nbformat_minor": 4
}
