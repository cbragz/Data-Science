{
 "cells": [
  {
   "cell_type": "code",
   "execution_count": null,
   "metadata": {},
   "outputs": [],
   "source": []
  },
  {
   "cell_type": "markdown",
   "metadata": {},
   "source": [
    "=================================##########===============================================\n"
   ]
  },
  {
   "cell_type": "markdown",
   "metadata": {},
   "source": [
    "#### TIme conversion 12 to 24. "
   ]
  },
  {
   "cell_type": "code",
   "execution_count": 2,
   "metadata": {},
   "outputs": [],
   "source": [
    "def timeConversions(s):\n",
    "    if s.split(':')[-1][-2]=='A':\n",
    "        if s.split(':')[0]=='12':\n",
    "            return('00'+':'+ s.split(':')[1]+ ':' +s.split(':')[2][0:2])\n",
    "        else:\n",
    "            return (s[0:len(s)-2])\n",
    "    else:\n",
    "        if s.split(':')[0]=='12':\n",
    "            return(s[0:len(s)-2])\n",
    "        else:\n",
    "            hh = 12 + int(s.split(':')[0])\n",
    "            return(str(hh)+':'+s.split(':')[1]+':'+s.split(':')[2][0:2])\n",
    "\n"
   ]
  },
  {
   "cell_type": "code",
   "execution_count": null,
   "metadata": {},
   "outputs": [],
   "source": [
    "#Alternate approach:\n",
    "\n",
    "time = input().strip()\n",
    "h, m, s = map(int, time[:-2].split(':'))\n",
    "p = time[-2:]\n",
    "h = h % 12 + (p.upper() == 'PM') * 12\n",
    "print(('%02d:%02d:%02d') % (h, m, s))\n"
   ]
  },
  {
   "cell_type": "markdown",
   "metadata": {},
   "source": [
    "================================================================================"
   ]
  },
  {
   "cell_type": "code",
   "execution_count": 2,
   "metadata": {},
   "outputs": [],
   "source": [
    "aa = '1.24kg'"
   ]
  },
  {
   "cell_type": "code",
   "execution_count": 3,
   "metadata": {},
   "outputs": [
    {
     "data": {
      "text/plain": [
       "'1.24kg'"
      ]
     },
     "execution_count": 3,
     "metadata": {},
     "output_type": "execute_result"
    }
   ],
   "source": [
    "aa"
   ]
  },
  {
   "cell_type": "code",
   "execution_count": 4,
   "metadata": {},
   "outputs": [
    {
     "data": {
      "text/plain": [
       "1.24"
      ]
     },
     "execution_count": 4,
     "metadata": {},
     "output_type": "execute_result"
    }
   ],
   "source": [
    "float(aa.split('k')[0])"
   ]
  },
  {
   "cell_type": "code",
   "execution_count": 5,
   "metadata": {},
   "outputs": [],
   "source": [
    "x = float(aa.split('k')[0])"
   ]
  },
  {
   "cell_type": "code",
   "execution_count": 14,
   "metadata": {},
   "outputs": [
    {
     "data": {
      "text/plain": [
       "float"
      ]
     },
     "execution_count": 14,
     "metadata": {},
     "output_type": "execute_result"
    }
   ],
   "source": [
    "type(x)"
   ]
  },
  {
   "cell_type": "code",
   "execution_count": 7,
   "metadata": {},
   "outputs": [
    {
     "name": "stdout",
     "output_type": "stream",
     "text": [
      "0\n",
      "1\n",
      "2\n",
      "3\n",
      "4\n"
     ]
    }
   ],
   "source": [
    "for i in range(0,5):\n",
    "    print (i)"
   ]
  },
  {
   "cell_type": "markdown",
   "metadata": {},
   "source": [
    "===============================########==========================================="
   ]
  },
  {
   "cell_type": "markdown",
   "metadata": {},
   "source": [
    "### Factorial of a number\n",
    "\n",
    "<b>Goal</b>:\n",
    "to calculate the factorial of a number that a user asked for.<br>\n",
    "\n",
    "<b>Alternate way to frame the goal</b>:<br>\n",
    "a numbers factorial is the number * the num-1 * (the num-2) * (num-3) ... (num -(num-1))<br>\n",
    "<br>\n",
    "so 5! = 5 x  4 x 3 x 2 x 1<br> <br>\n",
    "<b>Given/what you have</b>:\n",
    "\t<br>if-else stmnt, for looop,\n",
    "\t <br>while loop, functions, <br>lists, dictionaries\n",
    "\n",
    "<b>Steps / sudo code:</b> <br>\n",
    "get the number from the user<br>\n",
    "check if number is 0 , output 1.<br>\n",
    "\tif less than 0, output 'fact cannot be caluculated'<br>\n",
    "\tif num is > 0 <br>\n",
    "\t\t&ensp; get the num-1\tsay X1 <br>\n",
    "\t\t&ensp;then get num - (num-1)  say X2 <br>\n",
    "        &ensp;set factorial to be num <br>\n",
    "\t&ensp; &ensp;for i in between X2 to num <br>\n",
    "\t&ensp;&ensp; factorial = factorial x i <br>"
   ]
  },
  {
   "cell_type": "code",
   "execution_count": 20,
   "metadata": {},
   "outputs": [
    {
     "data": {
      "text/plain": [
       "5040"
      ]
     },
     "execution_count": 20,
     "metadata": {},
     "output_type": "execute_result"
    }
   ],
   "source": [
    "def num_factorial(num):\n",
    "    if num < 0:\n",
    "        return('no factorial of neg no')\n",
    "    if num == 0:\n",
    "        return (1)\n",
    "    else:\n",
    "        fact = num\n",
    "        end_multip = num - (num-1)\n",
    "        for i in range (end_multip,num):\n",
    "            fact = fact * i\n",
    "        return(fact)\n",
    "\n",
    "num_factorial(7)"
   ]
  },
  {
   "cell_type": "markdown",
   "metadata": {},
   "source": [
    " ======================##########=============================="
   ]
  },
  {
   "cell_type": "markdown",
   "metadata": {},
   "source": [
    "### ZIGZAG Test"
   ]
  },
  {
   "cell_type": "code",
   "execution_count": 3,
   "metadata": {},
   "outputs": [
    {
     "name": "stdout",
     "output_type": "stream",
     "text": [
      "1\n",
      "2\n",
      "3\n",
      "4\n",
      "5\n",
      "6\n",
      "7\n",
      "8\n",
      "9\n",
      "10\n",
      "11\n"
     ]
    }
   ],
   "source": [
    "x=0\n",
    "while x<=10:\n",
    "    x+=1\n",
    "    print(x)"
   ]
  },
  {
   "cell_type": "code",
   "execution_count": 6,
   "metadata": {},
   "outputs": [
    {
     "data": {
      "text/plain": [
       "5"
      ]
     },
     "execution_count": 6,
     "metadata": {},
     "output_type": "execute_result"
    }
   ],
   "source": [
    "len(ar)"
   ]
  },
  {
   "cell_type": "code",
   "execution_count": 24,
   "metadata": {},
   "outputs": [
    {
     "name": "stdout",
     "output_type": "stream",
     "text": [
      "2 3 4\n",
      "3 4 5\n",
      "4 5 5\n"
     ]
    }
   ],
   "source": [
    "ar = [2,3,4,5,5]\n",
    "\n",
    "i=0\n",
    "while i <= len(ar)-3:\n",
    "    print(ar[i],ar[i+1],ar[i+2])\n",
    "    i+=1\n",
    "    "
   ]
  },
  {
   "cell_type": "code",
   "execution_count": 30,
   "metadata": {},
   "outputs": [
    {
     "data": {
      "text/plain": [
       "[1, 1, 0]"
      ]
     },
     "execution_count": 30,
     "metadata": {},
     "output_type": "execute_result"
    }
   ],
   "source": [
    "# A ZIGZAG test. a<b>c or a>b<c\n",
    "\n",
    "def solutions(numbers):\n",
    "    result_arr = []\n",
    "    tracker = 0\n",
    "    while tracker <= len(numbers)-3:\n",
    "        if ((numbers[tracker]<numbers[tracker+1]>numbers[tracker+2]) == True) | ((numbers[tracker]>numbers[tracker+1]<numbers[tracker+2])==True):\n",
    "            result_arr.append(1)\n",
    "        else:\n",
    "            result_arr.append(0)\n",
    "        tracker+=1\n",
    "    return(result_arr)\n",
    "        \n",
    "solutions([1,2,1,3,4])"
   ]
  },
  {
   "cell_type": "code",
   "execution_count": null,
   "metadata": {},
   "outputs": [],
   "source": []
  },
  {
   "cell_type": "code",
   "execution_count": null,
   "metadata": {},
   "outputs": [],
   "source": []
  },
  {
   "cell_type": "markdown",
   "metadata": {},
   "source": [
    "=================############==================="
   ]
  },
  {
   "cell_type": "markdown",
   "metadata": {},
   "source": [
    "### Coursera (Text editor)"
   ]
  },
  {
   "cell_type": "code",
   "execution_count": 41,
   "metadata": {},
   "outputs": [
    {
     "data": {
      "text/plain": [
       "['Hey',\n",
       " 'Hey you',\n",
       " \"Hey you, don't\",\n",
       " \"Hey you, don't \",\n",
       " \"Hey you, don't let me down\"]"
      ]
     },
     "execution_count": 41,
     "metadata": {},
     "output_type": "execute_result"
    }
   ],
   "source": [
    "def sol_fun(queries):\n",
    "    fin_arr = []\n",
    "    act = ''\n",
    "    val = ''\n",
    "    quer_len_tr = 0\n",
    "    while quer_len_tr<len(queries):\n",
    "        for i in queries:\n",
    "            act = i[0]\n",
    "            val = i[1]\n",
    "            if act == 'APPEND':\n",
    "                if quer_len_tr == 0:\n",
    "                    fin_arr.append(val)\n",
    "                else:\n",
    "                    fin_arr.append(fin_arr[quer_len_tr-1]+val)\n",
    "            quer_len_tr+=1\n",
    "    return(fin_arr)\n",
    "        \n",
    "        \n",
    "sol_fun([[\"APPEND\",\"Hey\"], \n",
    " [\"APPEND\",\" you\"], \n",
    " [\"APPEND\",\", don't\"], \n",
    " [\"APPEND\",\" \"], \n",
    " [\"APPEND\",\"let me down\"]])"
   ]
  },
  {
   "cell_type": "markdown",
   "metadata": {},
   "source": [
    "=========== =========######### ==============================="
   ]
  },
  {
   "cell_type": "markdown",
   "metadata": {},
   "source": [
    "#### API calls example"
   ]
  },
  {
   "cell_type": "code",
   "execution_count": 70,
   "metadata": {},
   "outputs": [
    {
     "name": "stdout",
     "output_type": "stream",
     "text": [
      "Active cases in South Andaman: 19\n"
     ]
    }
   ],
   "source": [
    "import requests\n",
    "import json\n",
    "\n",
    "#Connect to API\n",
    "response_API = requests.get('https://api.covid19india.org/state_district_wise.json')\n",
    "\n",
    "#print(response_API.status_code)\n",
    "\n",
    "#Pull data from API\n",
    "data = response_API.text        #Can print(data) to check that its JSON format\n",
    "\n",
    "#parse the data as json\n",
    "parse_json = json.loads(data)\n",
    "\n",
    "active_case = parse_json['Andaman and Nicobar Islands']['districtData']['South Andaman']['active']\n",
    "\n",
    "print(\"Active cases in South Andaman:\", active_case)"
   ]
  },
  {
   "cell_type": "markdown",
   "metadata": {},
   "source": [
    "===================########=================="
   ]
  },
  {
   "cell_type": "code",
   "execution_count": null,
   "metadata": {},
   "outputs": [],
   "source": []
  },
  {
   "cell_type": "code",
   "execution_count": 2,
   "metadata": {},
   "outputs": [],
   "source": [
    "x = [2,3,4,5]"
   ]
  },
  {
   "cell_type": "code",
   "execution_count": 7,
   "metadata": {},
   "outputs": [],
   "source": [
    "x.sort(reverse=True)"
   ]
  },
  {
   "cell_type": "code",
   "execution_count": 8,
   "metadata": {},
   "outputs": [
    {
     "data": {
      "text/plain": [
       "[5, 4, 3, 2]"
      ]
     },
     "execution_count": 8,
     "metadata": {},
     "output_type": "execute_result"
    }
   ],
   "source": [
    "x"
   ]
  },
  {
   "cell_type": "code",
   "execution_count": 40,
   "metadata": {},
   "outputs": [
    {
     "data": {
      "text/plain": [
       "[5, 4, 3]"
      ]
     },
     "execution_count": 40,
     "metadata": {},
     "output_type": "execute_result"
    }
   ],
   "source": [
    "x[0:3]   # remember List slicing is not inclusive of last index"
   ]
  },
  {
   "cell_type": "code",
   "execution_count": 10,
   "metadata": {},
   "outputs": [
    {
     "data": {
      "text/plain": [
       "12"
      ]
     },
     "execution_count": 10,
     "metadata": {},
     "output_type": "execute_result"
    }
   ],
   "source": [
    "sum(x[0:(len(x)-1)])"
   ]
  },
  {
   "cell_type": "code",
   "execution_count": 2,
   "metadata": {},
   "outputs": [
    {
     "name": "stdout",
     "output_type": "stream",
     "text": [
      "2\n",
      "3\n",
      "4\n",
      "5\n"
     ]
    }
   ],
   "source": [
    "for m in x:\n",
    "    print(m)"
   ]
  },
  {
   "cell_type": "markdown",
   "metadata": {},
   "source": [
    "==========================#######=================="
   ]
  },
  {
   "cell_type": "markdown",
   "metadata": {},
   "source": [
    "### Hacker Rank MIN MAX Problem\n",
    "\n",
    "\n",
    "<b>GOAL</b>: Given 5 Positive integers find the min and max possible values by summing exactly 4 of the 5 integers.\n",
    "\n",
    "Alternate way of phrasing it: \n",
    " - Find the sum of 4 smalles integers from a bunch  of integers (say n integers)\n",
    " - Find the sum of 4 largest integeers from a bunch of integers\n",
    "\n",
    "<b>Given</b>: \n",
    "5 integers.\n",
    "Integers can be 0 or equal to each other\n",
    "\n",
    "<b>STEPS</b>:\n",
    "\n",
    "Goal 1 --  Find sum of 4 smallest integers <br>\n",
    "        - create a empty array min_elements (or a sorted_arr, and then can do 1st 4 and for max last 4)<br>\n",
    "        - Store smallest 4 nos in this array <br>\n",
    "                     \t- But HOW??<br>\n",
    "\t- Start small (i.e with 3 elments), then scale it\n",
    "        \t\n",
    "<b>Instead of trying to create a sorted algorithm use LIST.SORT() method</b>         \n",
    "   "
   ]
  },
  {
   "cell_type": "code",
   "execution_count": 39,
   "metadata": {},
   "outputs": [
    {
     "name": "stdout",
     "output_type": "stream",
     "text": [
      "16 24\n"
     ]
    }
   ],
   "source": [
    "def min_max(arr):\n",
    "    sorted_elements = arr.sort()\n",
    "    min_sum = sum(arr[0:(len(arr)-1)])\n",
    "    max_sum = sum(arr[1:len(arr)])\n",
    "    return(print(min_sum,max_sum))\n",
    "\n",
    "min_max([1,3,5,7,9])"
   ]
  },
  {
   "cell_type": "markdown",
   "metadata": {},
   "source": [
    "#### Some Alternate options:\n",
    "<br>\n",
    "<i>\n",
    "x = sum(arr)\n",
    "\n",
    "minValue = x - max(arr)\n",
    "maxValue = x - min(arr)\n",
    "\n",
    "print(minValue, maxValue) </i>\n",
    "\n",
    "=----------------------==\n",
    "\n",
    "or check:\n",
    "\n",
    "https://www.youtube.com/watch?v=CNL1WzrtxGY&list=PLSIpQf0NbcCltzNFrOJkQ4J4AAjW3TSmA\n"
   ]
  },
  {
   "cell_type": "markdown",
   "metadata": {},
   "source": [
    "==========================#######=================="
   ]
  },
  {
   "cell_type": "code",
   "execution_count": null,
   "metadata": {},
   "outputs": [],
   "source": []
  },
  {
   "cell_type": "code",
   "execution_count": null,
   "metadata": {},
   "outputs": [],
   "source": []
  },
  {
   "cell_type": "markdown",
   "metadata": {},
   "source": [
    "#### CS dojo problem\n",
    "\n",
    "https://www.youtube.com/watch?v=GBuHSRDGZBY\n",
    "\n",
    "<b>GOAL:</b>\n",
    "Two Arrays given and a Target Number given <br>\n",
    "Find a pair of numbers, one number from each array, whose sum is closest to the target\n",
    "\n",
    "So solution function should give the pair/pairs whose sum is the closest and how close (so whats the difference to target)\n",
    "\n",
    "<b> Given: </b>\n",
    "Array 1 say [n1, n2 , n3...]  and Array 2 say [n11, n22, n33, n44, n55...] <br>\n",
    "And a target number say T\n",
    "\n",
    "\n",
    "<b>Other things to think about:\n",
    "- is there a simpler/intermediate problem you'd solve that brings you closer to the main solution    \n",
    "    \n",
    "- Any alternate but similar problem you've already solved. </b>\n",
    "\n",
    "\n",
    "    \n",
    "<b>Steps:</b>\n",
    "- find the sum of all possible pairs\n",
    "- find difference between the pair and the target, store this as distance.\n",
    "- if for next pair, new distance calculation is less than current distance calculation then update distance value and update the final array that stores the pair\n",
    "- Else if the new distance calc is equal to current distance, then only store the resuling pair to the final array.\n",
    "\n",
    "\n",
    "<b>NOTE </b><br>\n",
    "What we did here is a brute force solution, which is fine. But can we improve it. <br>\n",
    "To make the solution more efficient can we sort the input arrays in ascending order to make things faster <br>\n",
    "Efficient solutions will matter when it checks for time and space complexity comes into question\n",
    "\n"
   ]
  },
  {
   "cell_type": "code",
   "execution_count": 40,
   "metadata": {},
   "outputs": [
    {
     "data": {
      "text/plain": [
       "[(4, 8), (7, 5), (7, 7), (10, 4)]"
      ]
     },
     "execution_count": 40,
     "metadata": {},
     "output_type": "execute_result"
    }
   ],
   "source": [
    "\n",
    "\n",
    "def reach_target(a1,a2,t):\n",
    "    final_pairs = []\n",
    "    distance = sum(a1)+sum(a2)\n",
    "    for i in a1:\n",
    "        for j in a2:\n",
    "            #print(i,j,t,distance)\n",
    "            if abs(i+j-t) < distance:\n",
    "                distance = abs(i+j-t)\n",
    "                final_pairs = [(i,j)]\n",
    "            elif abs(i+j-t) == distance:\n",
    "                final_pairs.append((i,j))\n",
    "    return(final_pairs)\n",
    "\n",
    "\n",
    "reach_target( [-1,3,8,2,9,5] , [4,1,2,10,5,20], 24)\n",
    "\n",
    "reach_target([4,7,1,10],[4,5,8,7],13)"
   ]
  },
  {
   "cell_type": "code",
   "execution_count": null,
   "metadata": {},
   "outputs": [],
   "source": []
  },
  {
   "cell_type": "markdown",
   "metadata": {},
   "source": [
    "==========================#######=================="
   ]
  },
  {
   "cell_type": "code",
   "execution_count": 2,
   "metadata": {},
   "outputs": [
    {
     "name": "stdout",
     "output_type": "stream",
     "text": [
      "b\n"
     ]
    }
   ],
   "source": [
    "i=22\n",
    "\n",
    "if 0<i<10:\n",
    "    print ('a')\n",
    "else:\n",
    "    print('b')"
   ]
  },
  {
   "cell_type": "code",
   "execution_count": 12,
   "metadata": {},
   "outputs": [
    {
     "name": "stdout",
     "output_type": "stream",
     "text": [
      "3\n",
      "2\n"
     ]
    }
   ],
   "source": [
    "print(3)\n",
    "print(2)"
   ]
  },
  {
   "cell_type": "code",
   "execution_count": null,
   "metadata": {},
   "outputs": [],
   "source": []
  }
 ],
 "metadata": {
  "kernelspec": {
   "display_name": "Python 3",
   "language": "python",
   "name": "python3"
  },
  "language_info": {
   "codemirror_mode": {
    "name": "ipython",
    "version": 3
   },
   "file_extension": ".py",
   "mimetype": "text/x-python",
   "name": "python",
   "nbconvert_exporter": "python",
   "pygments_lexer": "ipython3",
   "version": "3.8.5"
  }
 },
 "nbformat": 4,
 "nbformat_minor": 4
}
